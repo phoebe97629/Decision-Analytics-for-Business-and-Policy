{
 "cells": [
  {
   "cell_type": "code",
   "execution_count": 6,
   "metadata": {},
   "outputs": [],
   "source": [
    "from gurobipy import *\n",
    "import numpy as np\n",
    "import csv\n",
    "import os        "
   ]
  },
  {
   "cell_type": "code",
   "execution_count": 7,
   "metadata": {},
   "outputs": [
    {
     "name": "stdout",
     "output_type": "stream",
     "text": [
      "[[4000. 2500. 1200. 2200.]\n",
      " [2000. 2600. 1800. 2600.]\n",
      " [3000. 3400. 2600. 3100.]\n",
      " [2500. 3000. 4100. 3700.]\n",
      " [4500. 4000. 3000. 3200.]]\n"
     ]
    }
   ],
   "source": [
    "# Demand in thousands of units\n",
    "demand = np.array([15, 18, 14, 20])\n",
    "\n",
    "# Plant capacity in thousands of units\n",
    "capacity = np.array([20, 22, 17, 19, 18])\n",
    "\n",
    "# Transportation costs per thousand units\n",
    "# Hard coding the numbers for demonstration.\n",
    "#transportCosts = np.array([[4000, 2500, 1200, 2200],\n",
    "#              [2000, 2600, 1800, 2600],\n",
    "#              [3000, 3400, 2600, 3100],\n",
    "#              [2500, 3000, 4100, 3700],\n",
    "#              [4500, 4000, 3000, 3200]])\n",
    "\n",
    "# Alternatively, read 2D array from file\n",
    "path = 'transportationCost.csv' # change to y ====our file directory\n",
    "data = np.genfromtxt(path, dtype=str, delimiter=',', encoding='utf-8-sig')\n",
    "transportCosts = data.astype(np.float)\n",
    "print(transportCosts)"
   ]
  },
  {
   "cell_type": "code",
   "execution_count": 15,
   "metadata": {},
   "outputs": [],
   "source": [
    "# Indices for plants and markets\n",
    "plants = range(len(capacity)) # Equivalently, plants = [0,1,2,3,4]\n",
    "markets = range(len(demand)) # Equivalently, markets = [0,1,2,3]\n",
    "\n",
    "# Setting up model object\n",
    "m = Model()\n",
    "\n",
    "### Setting up Decision Variables ###\n",
    "\n",
    "# Transportation decision variables: x[i,j] captures the\n",
    "# quantity to transport to market j from plant i\n",
    "\n",
    "# Option 1: Define variables and objective at the same time\n",
    "#x = m.addVars(plants, markets, obj=transportCosts, lb = 0.0)\n",
    "#m.modelSense = GRB.MINIMIZE\n",
    "\n",
    "# Option 2: Define variables, variable bounds, and objective separately\n",
    "x = m.addVars(plants, markets)\n",
    "\n",
    "\n",
    "m.setObjective(sum(sum(transportCosts[i,j] * x[i,j] for i in plants) for j in markets))\n",
    "m.modelSense = GRB.MINIMIZE\n"
   ]
  },
  {
   "cell_type": "code",
   "execution_count": 21,
   "metadata": {},
   "outputs": [
    {
     "data": {
      "text/plain": [
       "{(0, 0): <gurobi.Var *Awaiting Model Update*>,\n",
       " (0, 1): <gurobi.Var *Awaiting Model Update*>,\n",
       " (0, 2): <gurobi.Var *Awaiting Model Update*>,\n",
       " (0, 3): <gurobi.Var *Awaiting Model Update*>,\n",
       " (1, 0): <gurobi.Var *Awaiting Model Update*>,\n",
       " (1, 1): <gurobi.Var *Awaiting Model Update*>,\n",
       " (1, 2): <gurobi.Var *Awaiting Model Update*>,\n",
       " (1, 3): <gurobi.Var *Awaiting Model Update*>,\n",
       " (2, 0): <gurobi.Var *Awaiting Model Update*>,\n",
       " (2, 1): <gurobi.Var *Awaiting Model Update*>,\n",
       " (2, 2): <gurobi.Var *Awaiting Model Update*>,\n",
       " (2, 3): <gurobi.Var *Awaiting Model Update*>,\n",
       " (3, 0): <gurobi.Var *Awaiting Model Update*>,\n",
       " (3, 1): <gurobi.Var *Awaiting Model Update*>,\n",
       " (3, 2): <gurobi.Var *Awaiting Model Update*>,\n",
       " (3, 3): <gurobi.Var *Awaiting Model Update*>,\n",
       " (4, 0): <gurobi.Var *Awaiting Model Update*>,\n",
       " (4, 1): <gurobi.Var *Awaiting Model Update*>,\n",
       " (4, 2): <gurobi.Var *Awaiting Model Update*>,\n",
       " (4, 3): <gurobi.Var *Awaiting Model Update*>}"
      ]
     },
     "execution_count": 21,
     "metadata": {},
     "output_type": "execute_result"
    }
   ],
   "source": [
    "x"
   ]
  },
  {
   "cell_type": "code",
   "execution_count": 9,
   "metadata": {},
   "outputs": [],
   "source": [
    "for i in plants:\n",
    "    for j in markets:\n",
    "        m.addConstr(x[i,j] >= 0.0)"
   ]
  },
  {
   "cell_type": "code",
   "execution_count": 12,
   "metadata": {},
   "outputs": [
    {
     "data": {
      "text/plain": [
       "(5, 4)"
      ]
     },
     "execution_count": 12,
     "metadata": {},
     "output_type": "execute_result"
    }
   ],
   "source": [
    "transportCosts.shape"
   ]
  },
  {
   "cell_type": "code",
   "execution_count": 13,
   "metadata": {},
   "outputs": [
    {
     "name": "stdout",
     "output_type": "stream",
     "text": [
      "Gurobi Optimizer version 9.1.2 build v9.1.2rc0 (mac64)\n",
      "Thread count: 2 physical cores, 4 logical processors, using up to 4 threads\n",
      "Optimize a model with 38 rows, 20 columns and 100 nonzeros\n",
      "Coefficient statistics:\n",
      "  Matrix range     [1e+00, 1e+00]\n",
      "  Objective range  [1e+03, 4e+03]\n",
      "  Bounds range     [0e+00, 0e+00]\n",
      "  RHS range        [1e+01, 2e+01]\n",
      "Iteration    Objective       Primal Inf.    Dual Inf.      Time\n",
      "       0    1.5390000e+05   0.000000e+00   0.000000e+00      0s\n",
      "\n",
      "Solved in 0 iterations and 0.07 seconds\n",
      "Optimal objective  1.539000000e+05\n",
      "153900.0\n",
      "0 0 0.0\n",
      "0 1 0.0\n",
      "0 2 14.0\n",
      "0 3 6.0\n",
      "1 0 15.0\n",
      "1 1 0.0\n",
      "1 2 0.0\n",
      "1 3 7.0\n",
      "2 0 0.0\n",
      "2 1 0.0\n",
      "2 2 0.0\n",
      "2 3 7.0\n",
      "3 0 0.0\n",
      "3 1 18.0\n",
      "3 2 0.0\n",
      "3 3 0.0\n",
      "4 0 0.0\n",
      "4 1 0.0\n",
      "4 2 0.0\n",
      "4 3 0.0\n"
     ]
    }
   ],
   "source": [
    "# Demand constraints\n",
    "for j in markets:\n",
    "    m.addConstr(sum(x[i,j] for i in plants) >= demand[j])\n",
    "\n",
    "# Production constraints\n",
    "# Note that the right-hand limit sets the production to zero if the plant\n",
    "# is closed\n",
    "for i in plants:\n",
    "    m.addConstr(sum(x[i,j] for j in markets) <= capacity[i])\n",
    "\n",
    "# Alternative 1, using LinExpr object  \n",
    "#for i in plants:\n",
    "#    lhs = LinExpr(0)\n",
    "#    rhs = capacity[i]\n",
    "#    for j in markets:\n",
    "#        lhs = lhs + x[i,j]\n",
    "#    m.addConstr(lhs <= rhs)\n",
    "    \n",
    "# Alternative 2,\n",
    "#for i in plants:\n",
    "#    expr = LinExpr(sum(x[i,j] for j in markets))\n",
    "#    m.addConstr(expr <= capacity[i])\n",
    " \n",
    "\n",
    "# Solve\n",
    "m.optimize()\n",
    "\n",
    "# Print optimal cost\n",
    "print(m.objVal)\n",
    "\n",
    "# Print optimal solution\n",
    "    \n",
    "for i in plants:\n",
    "    for j in markets:\n",
    "        print(i, j, x[i,j].x)\n",
    "        \n",
    "        "
   ]
  },
  {
   "cell_type": "code",
   "execution_count": null,
   "metadata": {},
   "outputs": [],
   "source": []
  }
 ],
 "metadata": {
  "kernelspec": {
   "display_name": "Python 3",
   "language": "python",
   "name": "python3"
  },
  "language_info": {
   "codemirror_mode": {
    "name": "ipython",
    "version": 3
   },
   "file_extension": ".py",
   "mimetype": "text/x-python",
   "name": "python",
   "nbconvert_exporter": "python",
   "pygments_lexer": "ipython3",
   "version": "3.7.6"
  }
 },
 "nbformat": 4,
 "nbformat_minor": 4
}
