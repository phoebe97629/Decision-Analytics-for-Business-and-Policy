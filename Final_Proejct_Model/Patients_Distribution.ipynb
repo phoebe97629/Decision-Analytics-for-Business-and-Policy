{
 "cells": [
  {
   "cell_type": "code",
   "execution_count": 73,
   "id": "87b6faeb",
   "metadata": {},
   "outputs": [],
   "source": [
    "cases = random.randint(4566, round(4566*1.15))\n",
    "new_hospital_admissions = random.randint(362, round(362*1.15))\n",
    "hospital_admissions_rate = 362/cases\n"
   ]
  },
  {
   "cell_type": "code",
   "execution_count": 74,
   "id": "4a3036f7",
   "metadata": {},
   "outputs": [
    {
     "data": {
      "text/plain": [
       "4585"
      ]
     },
     "execution_count": 74,
     "metadata": {},
     "output_type": "execute_result"
    }
   ],
   "source": [
    "cases"
   ]
  },
  {
   "cell_type": "code",
   "execution_count": 68,
   "id": "5c23e4d8",
   "metadata": {},
   "outputs": [
    {
     "name": "stdout",
     "output_type": "stream",
     "text": [
      "4018\n"
     ]
    }
   ],
   "source": [
    "import pandas as pd\n",
    "df = pd.read_excel (r'HOspitalCapacity.xlsx')\n",
    "df['Capacity']\n",
    "total_bed = 0 \n",
    "\n",
    "for b in df['Capacity']: \n",
    "    total_bed += b\n",
    "    \n",
    "print(total_bed)"
   ]
  },
  {
   "cell_type": "code",
   "execution_count": 69,
   "id": "c46cb94d",
   "metadata": {},
   "outputs": [
    {
     "data": {
      "text/plain": [
       "[576, 252, 313, 186, 300, 63, 200, 124, 329, 272, 404, 435, 249, 315]"
      ]
     },
     "execution_count": 69,
     "metadata": {},
     "output_type": "execute_result"
    }
   ],
   "source": [
    "#the maximum number of Covid_Paitnets that each hospital could accept\n",
    "bed_per_hospital = list(df['Capacity'])\n",
    "bed_per_hospital"
   ]
  },
  {
   "cell_type": "code",
   "execution_count": 70,
   "id": "729af51b",
   "metadata": {},
   "outputs": [
    {
     "data": {
      "text/plain": [
       "array([[0.0736371, 0.0736371, 0.0736371, 0.0736371, 0.0736371, 0.0736371,\n",
       "        0.0736371, 0.0736371, 0.0736371, 0.0736371, 0.0736371, 0.0736371,\n",
       "        0.0736371, 0.0736371]])"
      ]
     },
     "execution_count": 70,
     "metadata": {},
     "output_type": "execute_result"
    }
   ],
   "source": [
    "#The randomness\n",
    "admissions_rate = np.full((1, 14), hospital_admissions_rate)\n",
    "admissions_rate"
   ]
  },
  {
   "cell_type": "code",
   "execution_count": 75,
   "id": "e46a0094",
   "metadata": {},
   "outputs": [
    {
     "data": {
      "text/plain": [
       "[42, 18, 23, 13, 22, 4, 14, 9, 24, 20, 29, 32, 18, 23]"
      ]
     },
     "execution_count": 75,
     "metadata": {},
     "output_type": "execute_result"
    }
   ],
   "source": [
    "#The actual covid patients in each hospital\n",
    "np.multiply(patients_per_hospital,admissions_rate).flatten()\n",
    "actual_patients_hospital_accept = [ round(int(i)) for i in np.multiply(patients_per_hospital,admissions_rate).flatten()]\n",
    "actual_patients_hospital_accept"
   ]
  },
  {
   "cell_type": "code",
   "execution_count": 87,
   "id": "1984b5dd",
   "metadata": {},
   "outputs": [
    {
     "data": {
      "text/plain": [
       "291"
      ]
     },
     "execution_count": 87,
     "metadata": {},
     "output_type": "execute_result"
    }
   ],
   "source": [
    "total = sum(actual_patients_hospital_accept)\n",
    "total"
   ]
  },
  {
   "cell_type": "code",
   "execution_count": 92,
   "id": "e81314ee",
   "metadata": {},
   "outputs": [
    {
     "data": {
      "text/plain": [
       "array([312, 336, 316, 309, 286, 292, 288, 333, 328, 306, 280, 306, 317,\n",
       "       285])"
      ]
     },
     "execution_count": 92,
     "metadata": {},
     "output_type": "execute_result"
    }
   ],
   "source": [
    "# Actial covid Patients need to transfer to PODs \n",
    "import numpy as np\n",
    "res_patients = cases - total\n",
    "n = 14\n",
    "patient_from_each_hospital = np.random.multinomial(res_patients, np.ones(n)/n, size=1)[0]\n",
    "patient_from_each_hospital"
   ]
  },
  {
   "cell_type": "markdown",
   "id": "6f7f9356",
   "metadata": {},
   "source": [
    "source: https://covid.cdc.gov/covid-data-tracker/#county-view"
   ]
  },
  {
   "cell_type": "code",
   "execution_count": null,
   "id": "a688c0e5",
   "metadata": {},
   "outputs": [],
   "source": [
    "#Patient Number Generator\n"
   ]
  }
 ],
 "metadata": {
  "kernelspec": {
   "display_name": "Python 3",
   "language": "python",
   "name": "python3"
  },
  "language_info": {
   "codemirror_mode": {
    "name": "ipython",
    "version": 3
   },
   "file_extension": ".py",
   "mimetype": "text/x-python",
   "name": "python",
   "nbconvert_exporter": "python",
   "pygments_lexer": "ipython3",
   "version": "3.8.8"
  }
 },
 "nbformat": 4,
 "nbformat_minor": 5
}
