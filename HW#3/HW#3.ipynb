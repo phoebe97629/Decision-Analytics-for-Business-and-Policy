{
 "cells": [
  {
   "cell_type": "code",
   "execution_count": 325,
   "metadata": {},
   "outputs": [],
   "source": [
    "from gurobipy import *\n",
    "import numpy as np\n",
    "import pandas as pd"
   ]
  },
  {
   "cell_type": "markdown",
   "metadata": {},
   "source": [
    "### Import Data"
   ]
  },
  {
   "cell_type": "code",
   "execution_count": 326,
   "metadata": {},
   "outputs": [],
   "source": [
    "area = pd.read_csv('Pb2_areas.csv', index_col=None, header=None).values\n",
    "shelter = pd.read_csv('Pb2_shelters.csv', index_col=None, header=None).values"
   ]
  },
  {
   "cell_type": "code",
   "execution_count": 327,
   "metadata": {},
   "outputs": [
    {
     "name": "stdout",
     "output_type": "stream",
     "text": [
      "(200, 3) (40, 3)\n"
     ]
    }
   ],
   "source": [
    "print(area.shape, shelter.shape)"
   ]
  },
  {
   "cell_type": "markdown",
   "metadata": {},
   "source": [
    "### Data Set Up"
   ]
  },
  {
   "cell_type": "code",
   "execution_count": 328,
   "metadata": {},
   "outputs": [],
   "source": [
    "i = 200 # 200 area, i\n",
    "j = 40 # 40 shelter, j\n",
    "\n",
    "a = range(i) #i\n",
    "sh = range(j) #j"
   ]
  },
  {
   "cell_type": "code",
   "execution_count": 329,
   "metadata": {},
   "outputs": [
    {
     "data": {
      "text/plain": [
       "array([[ 5.38388,  5.8124 ,  7.5175 , ..., 17.71006, 10.5917 , 17.1904 ],\n",
       "       [18.77838, 16.6555 , 12.038  , ...,  6.09556,  8.9638 , 10.1169 ],\n",
       "       [13.80798,  7.2219 ,  6.8548 , ...,  9.28596,  3.2164 ,  7.0685 ],\n",
       "       ...,\n",
       "       [10.38538, 10.7425 ,  6.125  , ..., 17.33236,  4.83   ,  3.5479 ],\n",
       "       [18.35578,  7.1595 , 11.4026 , ...,  4.73816,  7.7642 ,  9.6943 ],\n",
       "       [15.79708, 12.0308 ,  8.8439 , ...,  7.29686,  5.2055 ,  7.1356 ]])"
      ]
     },
     "execution_count": 329,
     "metadata": {},
     "output_type": "execute_result"
    }
   ],
   "source": [
    "# Area population \n",
    "demand = []\n",
    "for i in a:\n",
    "    demand.append(area[i][-1])\n",
    "\n",
    "demand = np.array(demand)\n",
    "\n",
    "# shelter capacity in thousands of units\n",
    "capacity = []\n",
    "for j in sh:\n",
    "    capacity.append(shelter[j][-1])\n",
    "\n",
    "capacity = np.array(capacity)\n",
    "\n",
    "\n",
    "# distance between each capacity \n",
    "# distance matrixs shape is i*j. \n",
    "\n",
    "distance = np.zeros(shape=(200,40))\n",
    "\n",
    "for i in a:\n",
    "    for j in sh: \n",
    "        distance[i][j] = abs(area[i][0] - shelter[j][0]) + abs(area[i][1] - shelter[j][1])\n",
    "\n",
    "\n",
    "distance"
   ]
  },
  {
   "cell_type": "code",
   "execution_count": 330,
   "metadata": {},
   "outputs": [],
   "source": [
    "model = Model(\"Shelter\")"
   ]
  },
  {
   "cell_type": "code",
   "execution_count": 331,
   "metadata": {},
   "outputs": [],
   "source": [
    "#for shelter is open\n",
    "x = model.addVars(sh, vtype = GRB.BINARY)\n",
    "#for connection is build \n",
    "y = model.addVars(a, sh, vtype = GRB.BINARY)\n"
   ]
  },
  {
   "cell_type": "code",
   "execution_count": 332,
   "metadata": {},
   "outputs": [],
   "source": [
    "#objFn = LinExpr()\n",
    "\n",
    "#objFn += sum(sum(distance[i,j] * y[i,j] for i in a) for j in sh)\n",
    "#model.setObjective(objFn, GRB.MINIMIZE)"
   ]
  },
  {
   "cell_type": "code",
   "execution_count": 333,
   "metadata": {},
   "outputs": [],
   "source": [
    "model.setObjective(sum(sum(distance[i,j] * y[i,j]*x[j] for i in a) for j in sh), GRB.MINIMIZE)"
   ]
  },
  {
   "cell_type": "markdown",
   "metadata": {},
   "source": [
    "### Add Constranit"
   ]
  },
  {
   "cell_type": "code",
   "execution_count": 334,
   "metadata": {},
   "outputs": [],
   "source": [
    "# Sum of assigned area popualiton less or equal capacity.\n",
    "for j in sh:\n",
    "     model.addConstr(sum(x[j]*y[i,j]*demand[i] for i in a) <= capacity[j])\n",
    "\n"
   ]
  },
  {
   "cell_type": "code",
   "execution_count": 335,
   "metadata": {},
   "outputs": [],
   "source": [
    "#We want to assigne every area\n",
    "for i in a:\n",
    "    model.addConstr(sum(y[i,j]*x[j] for j in sh) == 1)"
   ]
  },
  {
   "cell_type": "code",
   "execution_count": 336,
   "metadata": {},
   "outputs": [
    {
     "data": {
      "text/plain": [
       "<gurobi.Constr *Awaiting Model Update*>"
      ]
     },
     "execution_count": 336,
     "metadata": {},
     "output_type": "execute_result"
    }
   ],
   "source": [
    "model.addConstr(sum(x[j] for j in sh) <= 10)"
   ]
  },
  {
   "cell_type": "markdown",
   "metadata": {},
   "source": [
    "### Solve Model "
   ]
  },
  {
   "cell_type": "code",
   "execution_count": 337,
   "metadata": {},
   "outputs": [
    {
     "name": "stdout",
     "output_type": "stream",
     "text": [
      "Changed value of parameter TimeLimit to 60.0\n",
      "   Prev: inf  Min: 0.0  Max: inf  Default: inf\n",
      "Gurobi Optimizer version 9.1.2 build v9.1.2rc0 (mac64)\n",
      "Thread count: 2 physical cores, 4 logical processors, using up to 4 threads\n",
      "Optimize a model with 1 rows, 8040 columns and 40 nonzeros\n",
      "Model fingerprint: 0xd5fd23e5\n",
      "Model has 8000 quadratic objective terms\n",
      "Model has 240 quadratic constraints\n",
      "Variable types: 0 continuous, 8040 integer (8040 binary)\n",
      "Coefficient statistics:\n",
      "  Matrix range     [1e+00, 1e+00]\n",
      "  QMatrix range    [1e+00, 7e+02]\n",
      "  Objective range  [0e+00, 0e+00]\n",
      "  QObjective range [5e-02, 5e+01]\n",
      "  Bounds range     [1e+00, 1e+00]\n",
      "  RHS range        [1e+01, 1e+01]\n",
      "  QRHS range       [1e+00, 2e+04]\n",
      "Presolve time: 0.33s\n",
      "Presolved: 24241 rows, 16040 columns, 72040 nonzeros\n",
      "Variable types: 0 continuous, 16040 integer (16040 binary)\n",
      "Found heuristic solution: objective 1284.9669104\n",
      "\n",
      "Root relaxation: objective 4.708529e+02, 1436 iterations, 0.46 seconds\n",
      "\n",
      "    Nodes    |    Current Node    |     Objective Bounds      |     Work\n",
      " Expl Unexpl |  Obj  Depth IntInf | Incumbent    BestBd   Gap | It/Node Time\n",
      "\n",
      "     0     0  470.85294    0  249 1284.96691  470.85294  63.4%     -    1s\n",
      "H    0     0                     914.1524004  470.85294  48.5%     -    2s\n",
      "     0     0  472.07280    0  256  914.15240  472.07280  48.4%     -    3s\n",
      "H    0     0                     488.3774904  472.07280  3.34%     -    5s\n",
      "     0     0  472.29611    0  336  488.37749  472.29611  3.29%     -    5s\n",
      "     0     0  472.65654    0  526  488.37749  472.65654  3.22%     -    7s\n",
      "H    0     0                     483.8077504  472.65654  2.30%     -    7s\n",
      "     0     0  472.66048    0  254  483.80775  472.66048  2.30%     -    7s\n",
      "     0     0  473.28550    0  496  483.80775  473.28550  2.17%     -    8s\n",
      "     0     0  473.28550    0  249  483.80775  473.28550  2.17%     -    8s\n",
      "H    0     0                     483.0914304  473.28550  2.03%     -    8s\n",
      "     0     0  474.54413    0  260  483.09143  474.54413  1.77%     -    9s\n",
      "H    0     0                     479.0613304  474.54413  0.94%     -    9s\n",
      "     0     0  474.81838    0  264  479.06133  474.81838  0.89%     -    9s\n",
      "     0     0  474.82210    0  263  479.06133  474.82210  0.88%     -    9s\n",
      "     0     0  474.88793    0  263  479.06133  474.88793  0.87%     -    9s\n",
      "     0     0  474.88793    0  246  479.06133  474.88793  0.87%     -    9s\n",
      "     0     0  474.88793    0  260  479.06133  474.88793  0.87%     -    9s\n",
      "     0     0  474.97039    0  259  479.06133  474.97039  0.85%     -    9s\n",
      "     0     0  474.97039    0  259  479.06133  474.97039  0.85%     -   10s\n",
      "H    0     0                     478.6783304  474.97039  0.77%     -   10s\n",
      "     0     0  475.03498    0  245  478.67833  475.03498  0.76%     -   10s\n",
      "     0     0  475.03498    0  246  478.67833  475.03498  0.76%     -   10s\n",
      "     0     0  475.03498    0  155  478.67833  475.03498  0.76%     -   10s\n",
      "     0     0  475.05770    0  202  478.67833  475.05770  0.76%     -   10s\n",
      "     0     0  476.21650    0  263  478.67833  476.21650  0.51%     -   10s\n",
      "     0     0  476.30613    0  264  478.67833  476.30613  0.50%     -   10s\n",
      "     0     0  476.43285    0  211  478.67833  476.43285  0.47%     -   10s\n",
      "     0     0  476.43285    0   97  478.67833  476.43285  0.47%     -   10s\n",
      "H    0     0                     478.5503304  476.43285  0.44%     -   10s\n",
      "     0     0  476.43285    0  127  478.55033  476.43285  0.44%     -   11s\n",
      "H    0     0                     478.2138604  476.43285  0.37%     -   11s\n",
      "H    0     0                     477.8306604  476.43285  0.29%     -   11s\n",
      "     0     0  476.54441    0  133  477.83066  476.54441  0.27%     -   11s\n",
      "     0     0  476.57505    0  136  477.83066  476.57505  0.26%     -   11s\n",
      "     0     0  476.57505    0   58  477.83066  476.57505  0.26%     -   11s\n",
      "H    0     0                     477.2686604  476.57505  0.15%     -   11s\n",
      "     0     0  476.69444    0   89  477.26866  476.69444  0.12%     -   11s\n",
      "     0     0  476.76396    0   92  477.26866  476.76396  0.11%     -   11s\n",
      "     0     0  476.85440    0  106  477.26866  476.85440  0.09%     -   11s\n",
      "     0     0  476.85440    0   19  477.26866  476.85440  0.09%     -   11s\n",
      "     0     0  476.92375    0    7  477.26866  476.92375  0.07%     -   11s\n",
      "     0     0  477.18345    0    8  477.26866  477.18345  0.02%     -   11s\n",
      "     0     0     cutoff    0       477.26866  477.26866  0.00%     -   11s\n",
      "\n",
      "Cutting planes:\n",
      "  Gomory: 2\n",
      "  Cover: 4\n",
      "  MIR: 3\n",
      "  GUB cover: 5\n",
      "\n",
      "Explored 1 nodes (8129 simplex iterations) in 11.47 seconds\n",
      "Thread count was 4 (of 4 available processors)\n",
      "\n",
      "Solution count 10: 477.269 477.831 478.214 ... 914.152\n",
      "\n",
      "Optimal solution found (tolerance 1.00e-04)\n",
      "Best objective 4.772686603900e+02, best bound 4.772686603900e+02, gap 0.0000%\n"
     ]
    }
   ],
   "source": [
    "model.Params.TimeLimit = 60 # seconds\n",
    "# Solve\n",
    "model.optimize()"
   ]
  },
  {
   "cell_type": "code",
   "execution_count": 338,
   "metadata": {},
   "outputs": [
    {
     "name": "stdout",
     "output_type": "stream",
     "text": [
      "Objective value, total distance =  477.26866039000015\n"
     ]
    }
   ],
   "source": [
    "print(\"Objective value, total distance = \", model.objVal)"
   ]
  },
  {
   "cell_type": "markdown",
   "metadata": {},
   "source": [
    "### Question 3 implementation"
   ]
  },
  {
   "cell_type": "code",
   "execution_count": 339,
   "metadata": {},
   "outputs": [],
   "source": [
    "#### set up model 2\n",
    "\n",
    "m2 = Model(\"MinMax\")"
   ]
  },
  {
   "cell_type": "code",
   "execution_count": 340,
   "metadata": {},
   "outputs": [],
   "source": [
    "\n",
    "#for shelter is open\n",
    "x2 = m2.addVars(sh, vtype = GRB.BINARY)\n",
    "#for connection is build \n",
    "y2 = m2.addVars(a, sh, vtype = GRB.BINARY)\n",
    "\n",
    "# distance variables d\n",
    "md = m2.addVar(lb=0.0)"
   ]
  },
  {
   "cell_type": "markdown",
   "metadata": {},
   "source": [
    "### set upobjective function"
   ]
  },
  {
   "cell_type": "code",
   "execution_count": 341,
   "metadata": {},
   "outputs": [],
   "source": [
    "m2.setObjective(md, GRB.MINIMIZE)"
   ]
  },
  {
   "cell_type": "code",
   "execution_count": 342,
   "metadata": {},
   "outputs": [
    {
     "data": {
      "text/plain": [
       "<gurobi.Constr *Awaiting Model Update*>"
      ]
     },
     "execution_count": 342,
     "metadata": {},
     "output_type": "execute_result"
    }
   ],
   "source": [
    "# Sum of assigned area popualiton less or equal capacity.\n",
    "for j in sh:\n",
    "     m2.addConstr(sum(x2[j]*y2[i,j]*demand[i] for i in a) <= capacity[j])\n",
    "\n",
    "#We want to assigne every area\n",
    "for i in a:\n",
    "    m2.addConstr(sum(y2[i,j]*x2[j] for j in sh) == 1)\n",
    "    \n",
    "m2.addConstr(sum(x2[j] for j in sh) <= 10)\n"
   ]
  },
  {
   "cell_type": "code",
   "execution_count": 343,
   "metadata": {},
   "outputs": [],
   "source": [
    "for i in a:\n",
    "    for j in sh:\n",
    "        m2.addConstr(md >= distance[i,j] * y2[i,j])\n"
   ]
  },
  {
   "cell_type": "code",
   "execution_count": 344,
   "metadata": {},
   "outputs": [
    {
     "name": "stdout",
     "output_type": "stream",
     "text": [
      "Parameter TimeLimit unchanged\n",
      "   Value: 60.0  Min: 0.0  Max: inf  Default: inf\n",
      "Gurobi Optimizer version 9.1.2 build v9.1.2rc0 (mac64)\n",
      "Thread count: 2 physical cores, 4 logical processors, using up to 4 threads\n",
      "Optimize a model with 8001 rows, 8041 columns and 16040 nonzeros\n",
      "Model fingerprint: 0x75d06ed7\n",
      "Model has 240 quadratic constraints\n",
      "Variable types: 1 continuous, 8040 integer (8040 binary)\n",
      "Coefficient statistics:\n",
      "  Matrix range     [3e-02, 3e+01]\n",
      "  QMatrix range    [1e+00, 7e+02]\n",
      "  Objective range  [1e+00, 1e+00]\n",
      "  Bounds range     [1e+00, 1e+00]\n",
      "  RHS range        [1e+01, 1e+01]\n",
      "  QRHS range       [1e+00, 2e+04]\n",
      "Presolve time: 0.14s\n",
      "Presolved: 32241 rows, 16041 columns, 88040 nonzeros\n",
      "Variable types: 1 continuous, 16040 integer (16040 binary)\n",
      "Found heuristic solution: objective 24.9504500\n",
      "\n",
      "Root relaxation: objective 1.249370e+00, 2755 iterations, 0.35 seconds\n",
      "\n",
      "    Nodes    |    Current Node    |     Objective Bounds      |     Work\n",
      " Expl Unexpl |  Obj  Depth IntInf | Incumbent    BestBd   Gap | It/Node Time\n",
      "\n",
      "     0     0    1.24937    0 1011   24.95045    1.24937  95.0%     -    2s\n",
      "H    0     0                      13.6508000    1.24937  90.8%     -    3s\n",
      "     0     0    4.72858    0  156   13.65080    4.72858  65.4%     -    6s\n",
      "     0     0    4.72858    0 2456   13.65080    4.72858  65.4%     -    8s\n",
      "H    0     0                      13.1844000    4.72858  64.1%     -    8s\n",
      "H    0     0                      12.8462000    4.72858  63.2%     -    8s\n",
      "     0     0    4.72858    0 1002   12.84620    4.72858  63.2%     -   12s\n",
      "H    0     0                      12.6861800    4.72858  62.7%     -   12s\n",
      "     0     0    5.34380    0  926   12.68618    5.34380  57.9%     -   12s\n",
      "     0     0    5.34380    0  893   12.68618    5.34380  57.9%     -   12s\n",
      "     0     0    5.34380    0  677   12.68618    5.34380  57.9%     -   15s\n",
      "H    0     0                      12.6474000    5.34380  57.7%     -   15s\n",
      "H    0     0                      11.1289900    5.34380  52.0%     -   15s\n",
      "     0     0    5.34380    0  784   11.12899    5.34380  52.0%     -   15s\n",
      "     0     0    5.34380    0  703   11.12899    5.34380  52.0%     -   16s\n",
      "H    0     0                      10.7917000    5.34380  50.5%     -   16s\n",
      "H    0     0                      10.0691800    5.34380  46.9%     -   16s\n",
      "     0     0    5.34380    0  787   10.06918    5.34380  46.9%     -   17s\n",
      "     0     0    5.34380    0   47   10.06918    5.34380  46.9%     -   18s\n",
      "     0     0    5.34380    0  783   10.06918    5.34380  46.9%     -   19s\n",
      "H    0     0                       9.6500000    5.34380  44.6%     -   19s\n",
      "H    0     0                       6.8810000    5.34380  22.3%     -   19s\n",
      "     0     0    5.34380    0   75    6.88100    5.34380  22.3%     -   20s\n",
      "     0     0    5.34380    0  152    6.88100    5.34380  22.3%     -   20s\n",
      "H    0     0                       6.1789500    5.34380  13.5%     -   20s\n",
      "     0     0    5.34380    0   62    6.17895    5.34380  13.5%     -   20s\n",
      "H    0     0                       6.0280500    5.34380  11.4%     -   20s\n",
      "H    0     0                       5.6276500    5.34380  5.04%     -   21s\n",
      "     0     0    5.34380    0  151    5.62765    5.34380  5.04%     -   21s\n",
      "     0     0    5.34380    0    4    5.62765    5.34380  5.04%     -   21s\n",
      "*    0     0               0       5.3438000    5.34380  0.00%     -   21s\n",
      "\n",
      "Explored 1 nodes (105534 simplex iterations) in 21.33 seconds\n",
      "Thread count was 4 (of 4 available processors)\n",
      "\n",
      "Solution count 10: 5.3438 5.62765 6.02805 ... 12.6474\n",
      "\n",
      "Optimal solution found (tolerance 1.00e-04)\n",
      "Best objective 5.343800000000e+00, best bound 5.343800000000e+00, gap 0.0000%\n"
     ]
    }
   ],
   "source": [
    "model.Params.TimeLimit = 60 # seconds\n",
    "# Solve\n",
    "m2.optimize()"
   ]
  },
  {
   "cell_type": "code",
   "execution_count": 346,
   "metadata": {},
   "outputs": [
    {
     "name": "stdout",
     "output_type": "stream",
     "text": [
      "Objective value, total distance =  5.3438\n"
     ]
    }
   ],
   "source": [
    "print(\"Objective value, total distance = \", m2.objVal)"
   ]
  },
  {
   "cell_type": "markdown",
   "metadata": {},
   "source": [
    "### Solution 1"
   ]
  },
  {
   "cell_type": "code",
   "execution_count": 347,
   "metadata": {},
   "outputs": [
    {
     "name": "stdout",
     "output_type": "stream",
     "text": [
      "Area  0  to shelter  11 :  1.24937\n",
      "Area  1  to shelter  22 :  0.4214999999999982\n",
      "Area  2  to shelter  10 :  2.4814999999999983\n",
      "Area  3  to shelter  2 :  4.043300000000001\n",
      "Area  4  to shelter  4 :  2.03986\n",
      "Area  5  to shelter  27 :  1.1733000000000011\n",
      "Area  6  to shelter  0 :  1.9803800000000003\n",
      "Area  7  to shelter  4 :  1.1332749999999998\n",
      "Area  8  to shelter  0 :  3.65708\n",
      "Area  9  to shelter  2 :  2.9401\n",
      "Area  10  to shelter  2 :  1.6388000000000007\n",
      "Area  11  to shelter  22 :  3.1265\n",
      "Area  12  to shelter  22 :  2.0680000000000014\n",
      "Area  13  to shelter  26 :  2.0993000000000004\n",
      "Area  14  to shelter  4 :  2.85424\n",
      "Area  15  to shelter  27 :  3.877200000000002\n",
      "Area  16  to shelter  27 :  4.898300000000001\n",
      "Area  17  to shelter  14 :  3.7631973899999998\n",
      "Area  18  to shelter  22 :  1.7884000000000002\n",
      "Area  19  to shelter  2 :  2.3957999999999995\n",
      "Area  20  to shelter  11 :  2.2567700000000004\n",
      "Area  21  to shelter  24 :  2.6787\n",
      "Area  22  to shelter  11 :  0.7726799999999998\n",
      "Area  23  to shelter  22 :  1.8268000000000022\n",
      "Area  24  to shelter  26 :  1.6846999999999996\n",
      "Area  25  to shelter  22 :  2.1075\n",
      "Area  26  to shelter  26 :  1.6122000000000014\n",
      "Area  27  to shelter  14 :  4.101789999999999\n",
      "Area  28  to shelter  22 :  1.368199999999999\n",
      "Area  29  to shelter  10 :  0.7100999999999988\n",
      "Area  30  to shelter  10 :  2.4487000000000014\n",
      "Area  31  to shelter  4 :  2.8498200000000002\n",
      "Area  32  to shelter  2 :  3.9482999999999997\n",
      "Area  33  to shelter  10 :  2.256000000000002\n",
      "Area  34  to shelter  24 :  2.5418000000000003\n",
      "Area  35  to shelter  22 :  4.189299999999999\n",
      "Area  36  to shelter  2 :  2.2204000000000006\n",
      "Area  37  to shelter  2 :  2.9139999999999997\n",
      "Area  38  to shelter  2 :  2.2548000000000004\n",
      "Area  39  to shelter  0 :  1.50998\n",
      "Area  40  to shelter  27 :  0.8819999999999997\n",
      "Area  41  to shelter  14 :  3.2879999999999994\n",
      "Area  42  to shelter  22 :  3.7977999999999987\n",
      "Area  43  to shelter  10 :  2.4447\n",
      "Area  44  to shelter  26 :  2.4288000000000007\n",
      "Area  45  to shelter  2 :  5.8236\n",
      "Area  46  to shelter  24 :  2.541299999999999\n",
      "Area  47  to shelter  26 :  2.3581299999999996\n",
      "Area  48  to shelter  14 :  1.8708999999999993\n",
      "Area  49  to shelter  10 :  2.702499999999998\n",
      "Area  50  to shelter  0 :  1.9141800000000004\n",
      "Area  51  to shelter  2 :  4.7842\n",
      "Area  52  to shelter  10 :  2.7452999999999985\n",
      "Area  53  to shelter  10 :  1.6812000000000005\n",
      "Area  54  to shelter  22 :  4.279300000000001\n",
      "Area  55  to shelter  10 :  3.9330999999999987\n",
      "Area  56  to shelter  10 :  1.3389000000000006\n",
      "Area  57  to shelter  27 :  1.3795000000000002\n",
      "Area  58  to shelter  0 :  2.43748\n",
      "Area  59  to shelter  11 :  1.7894899999999998\n",
      "Area  60  to shelter  26 :  1.1597\n",
      "Area  61  to shelter  2 :  0.41850000000000076\n",
      "Area  62  to shelter  0 :  1.0745800000000005\n",
      "Area  63  to shelter  26 :  2.947799999999999\n",
      "Area  64  to shelter  11 :  0.7488700000000001\n",
      "Area  65  to shelter  11 :  0.7370700000000001\n",
      "Area  66  to shelter  10 :  1.9288999999999987\n",
      "Area  67  to shelter  14 :  1.5302999999999984\n",
      "Area  68  to shelter  0 :  0.5604500000000003\n",
      "Area  69  to shelter  11 :  2.22798\n",
      "Area  70  to shelter  2 :  4.7364999999999995\n",
      "Area  71  to shelter  4 :  1.78836\n",
      "Area  72  to shelter  27 :  2.490899999999999\n",
      "Area  73  to shelter  27 :  3.516\n",
      "Area  74  to shelter  11 :  2.6758699999999997\n",
      "Area  75  to shelter  10 :  2.3229000000000006\n",
      "Area  76  to shelter  22 :  2.907699999999999\n",
      "Area  77  to shelter  10 :  2.2542\n",
      "Area  78  to shelter  24 :  1.290000000000001\n",
      "Area  79  to shelter  22 :  1.2443000000000008\n",
      "Area  80  to shelter  27 :  1.3354000000000017\n",
      "Area  81  to shelter  10 :  2.0209\n",
      "Area  82  to shelter  27 :  2.071200000000001\n",
      "Area  83  to shelter  10 :  2.2120999999999986\n",
      "Area  84  to shelter  24 :  0.4988999999999981\n",
      "Area  85  to shelter  10 :  1.4120999999999997\n",
      "Area  86  to shelter  24 :  1.3232000000000008\n",
      "Area  87  to shelter  10 :  2.4818000000000007\n",
      "Area  88  to shelter  27 :  2.784699999999999\n",
      "Area  89  to shelter  11 :  3.9645699999999997\n",
      "Area  90  to shelter  24 :  4.8517\n",
      "Area  91  to shelter  4 :  1.1194900000000003\n",
      "Area  92  to shelter  27 :  5.1606000000000005\n",
      "Area  93  to shelter  2 :  1.8137999999999996\n",
      "Area  94  to shelter  22 :  0.9193000000000007\n",
      "Area  95  to shelter  4 :  1.0958199999999996\n",
      "Area  96  to shelter  0 :  2.3281800000000006\n",
      "Area  97  to shelter  24 :  1.935100000000002\n",
      "Area  98  to shelter  11 :  2.06147\n",
      "Area  99  to shelter  4 :  2.25742\n",
      "Area  100  to shelter  14 :  3.265600000000001\n",
      "Area  101  to shelter  24 :  1.7863999999999995\n",
      "Area  102  to shelter  22 :  1.9341999999999997\n",
      "Area  103  to shelter  27 :  1.1134000000000004\n",
      "Area  104  to shelter  26 :  1.3722999999999979\n",
      "Area  105  to shelter  24 :  3.2109000000000005\n",
      "Area  106  to shelter  24 :  2.8908999999999985\n",
      "Area  107  to shelter  14 :  1.1075000000000013\n",
      "Area  108  to shelter  0 :  1.1379709999999998\n",
      "Area  109  to shelter  2 :  4.5518\n",
      "Area  110  to shelter  14 :  2.7163999999999997\n",
      "Area  111  to shelter  14 :  2.324000000000001\n",
      "Area  112  to shelter  2 :  2.2884\n",
      "Area  113  to shelter  26 :  4.032800000000002\n",
      "Area  114  to shelter  14 :  2.5004999999999997\n",
      "Area  115  to shelter  26 :  2.8118000000000007\n",
      "Area  116  to shelter  11 :  2.85187\n",
      "Area  117  to shelter  14 :  0.4700000000000002\n",
      "Area  118  to shelter  2 :  1.812800000000001\n",
      "Area  119  to shelter  22 :  4.622800000000002\n",
      "Area  120  to shelter  26 :  2.6739000000000006\n",
      "Area  121  to shelter  22 :  4.091799999999999\n",
      "Area  122  to shelter  10 :  2.0958000000000006\n",
      "Area  123  to shelter  26 :  1.0889000000000002\n",
      "Area  124  to shelter  22 :  1.7060000000000004\n",
      "Area  125  to shelter  2 :  1.7163000000000004\n",
      "Area  126  to shelter  11 :  1.6119700000000001\n",
      "Area  127  to shelter  10 :  0.9360999999999997\n",
      "Area  128  to shelter  4 :  3.06145\n",
      "Area  129  to shelter  26 :  2.580569999999999\n",
      "Area  130  to shelter  0 :  3.7042800000000002\n",
      "Area  131  to shelter  4 :  0.47282000000000024\n",
      "Area  132  to shelter  10 :  1.2573000000000008\n",
      "Area  133  to shelter  0 :  1.4304800000000002\n",
      "Area  134  to shelter  2 :  3.7043999999999997\n",
      "Area  135  to shelter  24 :  2.9623\n",
      "Area  136  to shelter  0 :  3.6813800000000008\n",
      "Area  137  to shelter  14 :  3.104700000000001\n",
      "Area  138  to shelter  22 :  5.0147999999999975\n",
      "Area  139  to shelter  10 :  1.2955999999999994\n",
      "Area  140  to shelter  2 :  0.8956\n",
      "Area  141  to shelter  24 :  2.8991\n",
      "Area  142  to shelter  26 :  3.3521\n",
      "Area  143  to shelter  27 :  1.2020999999999997\n",
      "Area  144  to shelter  14 :  0.6098999999999988\n",
      "Area  145  to shelter  27 :  3.3568999999999996\n",
      "Area  146  to shelter  0 :  5.2916799999999995\n",
      "Area  147  to shelter  14 :  1.4096999999999988\n",
      "Area  148  to shelter  14 :  1.7169999999999996\n",
      "Area  149  to shelter  26 :  1.9197999999999982\n",
      "Area  150  to shelter  24 :  2.0083\n",
      "Area  151  to shelter  27 :  2.3541999999999996\n",
      "Area  152  to shelter  11 :  3.8002700000000003\n",
      "Area  153  to shelter  11 :  1.36337\n",
      "Area  154  to shelter  10 :  2.2002999999999995\n",
      "Area  155  to shelter  27 :  3.8702000000000005\n",
      "Area  156  to shelter  10 :  0.5165000000000006\n",
      "Area  157  to shelter  11 :  0.5470800000000001\n",
      "Area  158  to shelter  10 :  1.4624999999999995\n",
      "Area  159  to shelter  27 :  1.3950999999999993\n",
      "Area  160  to shelter  14 :  0.6409999999999985\n",
      "Area  161  to shelter  0 :  3.40568\n",
      "Area  162  to shelter  26 :  1.0854000000000017\n",
      "Area  163  to shelter  26 :  1.1426600000000018\n",
      "Area  164  to shelter  4 :  2.00083\n",
      "Area  165  to shelter  14 :  2.4181399999999997\n",
      "Area  166  to shelter  2 :  5.5196\n",
      "Area  167  to shelter  2 :  5.6316\n",
      "Area  168  to shelter  26 :  1.4924499999999987\n",
      "Area  169  to shelter  0 :  0.97968\n",
      "Area  170  to shelter  2 :  6.453899999999999\n",
      "Area  171  to shelter  26 :  3.713399999999998\n",
      "Area  172  to shelter  14 :  3.0293100000000015\n",
      "Area  173  to shelter  10 :  3.0971999999999986\n",
      "Area  174  to shelter  22 :  1.841400000000001\n",
      "Area  175  to shelter  11 :  3.98937\n",
      "Area  176  to shelter  22 :  2.4017\n",
      "Area  177  to shelter  22 :  4.150599999999999\n",
      "Area  178  to shelter  4 :  0.7355070000000006\n",
      "Area  179  to shelter  11 :  4.406969999999999\n",
      "Area  180  to shelter  26 :  3.617700000000001\n",
      "Area  181  to shelter  2 :  3.6124999999999994\n",
      "Area  182  to shelter  11 :  3.98027\n",
      "Area  183  to shelter  2 :  1.4625000000000012\n",
      "Area  184  to shelter  14 :  1.9056999999999995\n",
      "Area  185  to shelter  11 :  1.16527\n",
      "Area  186  to shelter  26 :  3.7844\n",
      "Area  187  to shelter  10 :  0.43380000000000063\n",
      "Area  188  to shelter  22 :  1.140500000000002\n",
      "Area  189  to shelter  2 :  3.2291\n",
      "Area  190  to shelter  26 :  2.530899999999998\n",
      "Area  191  to shelter  24 :  1.9720999999999993\n",
      "Area  192  to shelter  24 :  1.3750000000000018\n",
      "Area  193  to shelter  2 :  3.0065\n",
      "Area  194  to shelter  14 :  2.0992999999999995\n",
      "Area  195  to shelter  0 :  1.55228\n",
      "Area  196  to shelter  26 :  2.0673999999999975\n",
      "Area  197  to shelter  27 :  3.1402\n",
      "Area  198  to shelter  26 :  3.262800000000001\n",
      "Area  199  to shelter  24 :  2.1182000000000007\n"
     ]
    }
   ],
   "source": [
    "\n",
    "    \n",
    "#print(\"Shipment decisions: plant number, market number, shipment quantity\")\n",
    "\n",
    "\n",
    "for i in a:\n",
    "    for j in sh:\n",
    "        if distance[i,j] *y[i,j].x >0:\n",
    "            print(\"Area \", i, \" to shelter \", j, \": \", distance[i,j] *y[i,j].x)"
   ]
  },
  {
   "cell_type": "code",
   "execution_count": 348,
   "metadata": {},
   "outputs": [
    {
     "data": {
      "image/png": "[encoded data removed]",
      "text/plain": [
       "<Figure size 432x288 with 1 Axes>"
      ]
     },
     "metadata": {
      "needs_background": "light"
     },
     "output_type": "display_data"
    }
   ],
   "source": [
    "import matplotlib.pyplot as plt\n",
    "fig = plt.figure()\n",
    "ax = fig.add_axes([0,0,1,1])\n",
    "for i in a:\n",
    "    for j in sh:\n",
    "        if distance[i,j] *y[i,j].x >0:\n",
    "            ax.bar(i,distance[i,j] *y[i,j].x)\n",
    "plt.show()"
   ]
  },
  {
   "cell_type": "markdown",
   "metadata": {},
   "source": [
    "### Solution 2"
   ]
  },
  {
   "cell_type": "code",
   "execution_count": 350,
   "metadata": {},
   "outputs": [
    {
     "name": "stdout",
     "output_type": "stream",
     "text": [
      "Plant  0  ships to market  11 :  1.24937\n",
      "Plant  1  ships to market  36 :  5.2741999999999996\n",
      "Plant  2  ships to market  10 :  2.4814999999999983\n",
      "Plant  3  ships to market  27 :  5.2219\n",
      "Plant  4  ships to market  11 :  3.68733\n",
      "Plant  5  ships to market  27 :  1.1733000000000011\n",
      "Plant  6  ships to market  0 :  1.9803800000000003\n",
      "Plant  7  ships to market  33 :  3.836705\n",
      "Plant  8  ships to market  0 :  3.65708\n",
      "Plant  9  ships to market  6 :  3.0862\n",
      "Plant  10  ships to market  6 :  4.387499999999999\n",
      "Plant  11  ships to market  29 :  3.9032999999999998\n",
      "Plant  12  ships to market  3 :  3.9064000000000023\n",
      "Plant  13  ships to market  3 :  4.930600000000001\n",
      "Plant  14  ships to market  11 :  2.87295\n",
      "Plant  15  ships to market  27 :  3.877200000000002\n",
      "Plant  16  ships to market  27 :  4.898300000000001\n",
      "Plant  17  ships to market  33 :  0.3715073900000002\n",
      "Plant  18  ships to market  24 :  4.481399999999999\n",
      "Plant  19  ships to market  0 :  4.55738\n",
      "Plant  20  ships to market  11 :  2.2567700000000004\n",
      "Plant  21  ships to market  36 :  4.8389999999999995\n",
      "Plant  22  ships to market  11 :  0.7726799999999998\n",
      "Plant  23  ships to market  36 :  4.689900000000001\n",
      "Plant  24  ships to market  3 :  4.615399999999999\n",
      "Plant  25  ships to market  3 :  2.548899999999999\n",
      "Plant  26  ships to market  3 :  4.542900000000001\n",
      "Plant  27  ships to market  33 :  3.965299999999999\n",
      "Plant  28  ships to market  3 :  4.426199999999998\n",
      "Plant  29  ships to market  27 :  4.167200000000001\n",
      "Plant  30  ships to market  27 :  4.2250000000000005\n",
      "Plant  31  ships to market  11 :  4.70537\n",
      "Plant  32  ships to market  0 :  3.17628\n",
      "Plant  33  ships to market  27 :  4.543900000000001\n",
      "Plant  34  ships to market  29 :  4.856600000000001\n",
      "Plant  35  ships to market  29 :  5.0024999999999995\n",
      "Plant  36  ships to market  6 :  3.8058999999999994\n",
      "Plant  37  ships to market  11 :  5.31907\n",
      "Plant  38  ships to market  6 :  3.7714999999999996\n",
      "Plant  39  ships to market  11 :  4.46967\n",
      "Plant  40  ships to market  27 :  0.8819999999999997\n",
      "Plant  41  ships to market  33 :  1.9366900000000002\n",
      "Plant  42  ships to market  29 :  3.232000000000001\n",
      "Plant  43  ships to market  10 :  2.4447\n",
      "Plant  44  ships to market  36 :  0.5372000000000003\n",
      "Plant  45  ships to market  6 :  4.7135\n",
      "Plant  46  ships to market  27 :  5.2384\n",
      "Plant  47  ships to market  36 :  1.2405300000000004\n",
      "Plant  48  ships to market  33 :  2.69179\n",
      "Plant  49  ships to market  10 :  2.702499999999998\n",
      "Plant  50  ships to market  11 :  4.0692699999999995\n",
      "Plant  51  ships to market  6 :  4.089499999999998\n",
      "Plant  52  ships to market  10 :  2.7452999999999985\n",
      "Plant  53  ships to market  27 :  4.004099999999999\n",
      "Plant  54  ships to market  29 :  3.8774999999999977\n",
      "Plant  55  ships to market  10 :  3.9330999999999987\n",
      "Plant  56  ships to market  27 :  5.184200000000001\n",
      "Plant  57  ships to market  27 :  1.3795000000000002\n",
      "Plant  58  ships to market  0 :  2.43748\n",
      "Plant  59  ships to market  11 :  1.7894899999999998\n",
      "Plant  60  ships to market  36 :  3.0513000000000003\n",
      "Plant  61  ships to market  10 :  4.712400000000001\n",
      "Plant  62  ships to market  11 :  5.047270000000001\n",
      "Plant  63  ships to market  3 :  1.0191000000000014\n",
      "Plant  64  ships to market  11 :  0.7488700000000001\n",
      "Plant  65  ships to market  11 :  0.7370700000000001\n",
      "Plant  66  ships to market  10 :  1.9288999999999987\n",
      "Plant  67  ships to market  33 :  1.861390000000001\n",
      "Plant  68  ships to market  11 :  4.694960000000001\n",
      "Plant  69  ships to market  11 :  2.22798\n",
      "Plant  70  ships to market  6 :  4.6184\n",
      "Plant  71  ships to market  11 :  3.9388300000000003\n",
      "Plant  72  ships to market  27 :  2.490899999999999\n",
      "Plant  73  ships to market  27 :  3.516\n",
      "Plant  74  ships to market  11 :  2.6758699999999997\n",
      "Plant  75  ships to market  10 :  2.3229000000000006\n",
      "Plant  76  ships to market  36 :  2.553\n",
      "Plant  77  ships to market  27 :  2.6231\n",
      "Plant  78  ships to market  29 :  3.604800000000002\n",
      "Plant  79  ships to market  24 :  4.944699999999998\n",
      "Plant  80  ships to market  27 :  1.3354000000000017\n",
      "Plant  81  ships to market  10 :  2.0209\n",
      "Plant  82  ships to market  27 :  2.071200000000001\n",
      "Plant  83  ships to market  27 :  4.889399999999999\n",
      "Plant  84  ships to market  29 :  3.2356999999999996\n",
      "Plant  85  ships to market  27 :  4.0894\n",
      "Plant  86  ships to market  27 :  4.9345\n",
      "Plant  87  ships to market  10 :  2.4818000000000007\n",
      "Plant  88  ships to market  27 :  2.784699999999999\n",
      "Plant  89  ships to market  11 :  3.9645699999999997\n",
      "Plant  90  ships to market  29 :  2.589100000000002\n",
      "Plant  91  ships to market  33 :  4.161859999999999\n",
      "Plant  92  ships to market  27 :  5.1606000000000005\n",
      "Plant  93  ships to market  0 :  5.337180000000001\n",
      "Plant  94  ships to market  3 :  4.0230999999999995\n",
      "Plant  95  ships to market  11 :  4.63137\n",
      "Plant  96  ships to market  0 :  2.3281800000000006\n",
      "Plant  97  ships to market  27 :  4.322599999999999\n",
      "Plant  98  ships to market  11 :  2.06147\n",
      "Plant  99  ships to market  11 :  3.46977\n",
      "Plant  100  ships to market  10 :  4.015699999999999\n",
      "Plant  101  ships to market  29 :  4.1012\n",
      "Plant  102  ships to market  29 :  5.0956\n",
      "Plant  103  ships to market  27 :  1.1134000000000004\n",
      "Plant  104  ships to market  3 :  1.8756000000000024\n",
      "Plant  105  ships to market  24 :  3.2109000000000005\n",
      "Plant  106  ships to market  36 :  4.626800000000001\n",
      "Plant  107  ships to market  33 :  4.4991900000000005\n",
      "Plant  108  ships to market  11 :  5.272481\n",
      "Plant  109  ships to market  0 :  3.8857800000000005\n",
      "Plant  110  ships to market  33 :  4.00249\n",
      "Plant  111  ships to market  10 :  3.0072999999999994\n",
      "Plant  112  ships to market  10 :  4.1419\n",
      "Plant  113  ships to market  10 :  5.173699999999998\n",
      "Plant  114  ships to market  33 :  4.66259\n",
      "Plant  115  ships to market  24 :  2.814299999999999\n",
      "Plant  116  ships to market  11 :  2.85187\n",
      "Plant  117  ships to market  33 :  3.8616899999999994\n",
      "Plant  118  ships to market  10 :  3.749900000000001\n",
      "Plant  119  ships to market  29 :  5.0009999999999994\n",
      "Plant  120  ships to market  36 :  1.5557000000000005\n",
      "Plant  121  ships to market  29 :  2.9380000000000006\n",
      "Plant  122  ships to market  10 :  2.0958000000000006\n",
      "Plant  123  ships to market  36 :  2.9805\n",
      "Plant  124  ships to market  29 :  5.323799999999999\n",
      "Plant  125  ships to market  6 :  4.31\n",
      "Plant  126  ships to market  11 :  1.6119700000000001\n",
      "Plant  127  ships to market  10 :  0.9360999999999997\n",
      "Plant  128  ships to market  33 :  1.7549199999999998\n",
      "Plant  129  ships to market  3 :  3.7052700000000014\n",
      "Plant  130  ships to market  0 :  3.7042800000000002\n",
      "Plant  131  ships to market  11 :  5.31057\n",
      "Plant  132  ships to market  27 :  4.034000000000001\n",
      "Plant  133  ships to market  0 :  1.4304800000000002\n",
      "Plant  134  ships to market  0 :  4.724780000000001\n",
      "Plant  135  ships to market  27 :  3.2954000000000008\n",
      "Plant  136  ships to market  0 :  3.6813800000000008\n",
      "Plant  137  ships to market  10 :  4.188599999999999\n",
      "Plant  138  ships to market  29 :  3.641\n",
      "Plant  139  ships to market  6 :  4.774400000000001\n",
      "Plant  140  ships to market  10 :  5.268900000000001\n",
      "Plant  141  ships to market  27 :  3.4886\n",
      "Plant  142  ships to market  3 :  0.4214\n",
      "Plant  143  ships to market  27 :  1.2020999999999997\n",
      "Plant  144  ships to market  33 :  2.781790000000001\n",
      "Plant  145  ships to market  27 :  3.3568999999999996\n",
      "Plant  146  ships to market  0 :  5.2916799999999995\n",
      "Plant  147  ships to market  33 :  1.9819900000000006\n",
      "Plant  148  ships to market  33 :  1.6746899999999998\n",
      "Plant  149  ships to market  36 :  1.535400000000002\n",
      "Plant  150  ships to market  29 :  4.323100000000001\n",
      "Plant  151  ships to market  27 :  2.3541999999999996\n",
      "Plant  152  ships to market  11 :  3.8002700000000003\n",
      "Plant  153  ships to market  11 :  1.36337\n",
      "Plant  154  ships to market  10 :  2.2002999999999995\n",
      "Plant  155  ships to market  27 :  3.8702000000000005\n",
      "Plant  156  ships to market  27 :  4.360799999999999\n",
      "Plant  157  ships to market  11 :  0.5470800000000001\n",
      "Plant  158  ships to market  27 :  4.7998\n",
      "Plant  159  ships to market  27 :  1.3950999999999993\n",
      "Plant  160  ships to market  33 :  2.750690000000001\n",
      "Plant  161  ships to market  0 :  3.40568\n",
      "Plant  162  ships to market  3 :  4.016100000000002\n",
      "Plant  163  ships to market  3 :  4.073360000000002\n",
      "Plant  164  ships to market  33 :  2.81554\n",
      "Plant  165  ships to market  33 :  1.7204499999999996\n",
      "Plant  166  ships to market  6 :  4.4094999999999995\n",
      "Plant  167  ships to market  0 :  4.72858\n",
      "Plant  168  ships to market  3 :  4.2451500000000015\n",
      "Plant  169  ships to market  11 :  4.00277\n",
      "Plant  170  ships to market  6 :  5.3438\n",
      "Plant  171  ships to market  36 :  2.668999999999998\n",
      "Plant  172  ships to market  33 :  3.711780000000001\n",
      "Plant  173  ships to market  10 :  3.0971999999999986\n",
      "Plant  174  ships to market  24 :  4.5344\n",
      "Plant  175  ships to market  11 :  3.98937\n",
      "Plant  176  ships to market  3 :  3.9547000000000017\n",
      "Plant  177  ships to market  29 :  2.879200000000001\n",
      "Plant  178  ships to market  33 :  4.318337\n",
      "Plant  179  ships to market  11 :  4.406969999999999\n",
      "Plant  180  ships to market  36 :  4.662100000000001\n",
      "Plant  181  ships to market  11 :  4.620570000000001\n",
      "Plant  182  ships to market  11 :  3.98027\n",
      "Plant  183  ships to market  6 :  4.563799999999999\n",
      "Plant  184  ships to market  33 :  2.3515900000000007\n",
      "Plant  185  ships to market  11 :  1.16527\n",
      "Plant  186  ships to market  24 :  4.8477\n",
      "Plant  187  ships to market  27 :  4.443499999999999\n",
      "Plant  188  ships to market  3 :  4.7149\n",
      "Plant  189  ships to market  0 :  3.72408\n",
      "Plant  190  ships to market  3 :  0.8716000000000019\n",
      "Plant  191  ships to market  27 :  4.4798\n",
      "Plant  192  ships to market  27 :  4.882699999999999\n"
     ]
    },
    {
     "name": "stdout",
     "output_type": "stream",
     "text": [
      "Plant  193  ships to market  33 :  4.718389999999999\n",
      "Plant  194  ships to market  33 :  4.82719\n",
      "Plant  195  ships to market  11 :  5.01357\n",
      "Plant  196  ships to market  36 :  1.0229999999999977\n",
      "Plant  197  ships to market  27 :  3.1402\n",
      "Plant  198  ships to market  36 :  4.307200000000001\n",
      "Plant  199  ships to market  29 :  4.433000000000002\n"
     ]
    }
   ],
   "source": [
    "for i in a:\n",
    "    for j in sh:\n",
    "        if distance[i,j] *y2[i,j].x >0:\n",
    "            print(\"Plant \", i, \" ships to market \", j, \": \", distance[i,j] *y2[i,j].x)"
   ]
  },
  {
   "cell_type": "code",
   "execution_count": 349,
   "metadata": {},
   "outputs": [
    {
     "data": {
      "image/png": "[encoded data removed]",
      "text/plain": [
       "<Figure size 432x288 with 1 Axes>"
      ]
     },
     "metadata": {
      "needs_background": "light"
     },
     "output_type": "display_data"
    }
   ],
   "source": [
    "import matplotlib.pyplot as plt\n",
    "fig = plt.figure()\n",
    "ax = fig.add_axes([0,0,1,1])\n",
    "for i in a:\n",
    "    for j in sh:\n",
    "        if distance[i,j] *y2[i,j].x >0:\n",
    "            ax.bar(i,distance[i,j] *y2[i,j].x)\n",
    "plt.show()"
   ]
  },
  {
   "cell_type": "code",
   "execution_count": null,
   "metadata": {},
   "outputs": [],
   "source": []
  }
 ],
 "metadata": {
  "kernelspec": {
   "display_name": "Python 3",
   "language": "python",
   "name": "python3"
  },
  "language_info": {
   "codemirror_mode": {
    "name": "ipython",
    "version": 3
   },
   "file_extension": ".py",
   "mimetype": "text/x-python",
   "name": "python",
   "nbconvert_exporter": "python",
   "pygments_lexer": "ipython3",
   "version": "3.7.6"
  }
 },
 "nbformat": 4,
 "nbformat_minor": 4
}
