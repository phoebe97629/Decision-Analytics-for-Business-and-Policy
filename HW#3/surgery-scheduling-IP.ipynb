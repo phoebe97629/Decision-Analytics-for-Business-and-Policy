{
 "cells": [
  {
   "cell_type": "markdown",
   "metadata": {},
   "source": [
    "# Scheduling Surgeries\n",
    "## Interger Programming Example\n",
    "This problem schedules patients into their preferred timeslots."
   ]
  },
  {
   "cell_type": "code",
   "execution_count": 1,
   "metadata": {},
   "outputs": [],
   "source": [
    "from gurobipy import *\n",
    "import numpy as np"
   ]
  },
  {
   "cell_type": "markdown",
   "metadata": {},
   "source": [
    "### Setting up indices, parameters.\n",
    "Let's work with an example with 20 patients, and 6 time slots."
   ]
  },
  {
   "cell_type": "code",
   "execution_count": 2,
   "metadata": {},
   "outputs": [],
   "source": [
    "n = 20 # 20 patients\n",
    "T = 6 # 4 markets\n",
    "patients = range(n)\n",
    "periods = range(T)"
   ]
  },
  {
   "cell_type": "markdown",
   "metadata": {},
   "source": [
    "Set up patient preference:\n",
    "#### IMPORTANT: This patient preference table is given to us, and the values are *input parameters*. Don't confuse them with the *binary decision variables* just because they both happen to contain binary values."
   ]
  },
  {
   "cell_type": "code",
   "execution_count": 3,
   "metadata": {},
   "outputs": [],
   "source": [
    "# Patient preference. Each row corresponds to a patient, each column correponds to a time period.\n",
    "alpha = np.array([[1,1,0,0,0,1],\n",
    "                  [0,1,1,0,0,0],\n",
    "                  [0,1,0,0,0,1],\n",
    "                  [0,0,0,0,1,1],\n",
    "                  [0,1,0,0,1,1],\n",
    "                  [0,1,0,0,0,1],\n",
    "                  [1,0,0,0,1,0],\n",
    "                  [0,0,1,1,0,0],\n",
    "                  [0,0,1,0,0,0],\n",
    "                  [0,0,0,1,0,0],\n",
    "                  [0,1,0,0,1,0],\n",
    "                  [1,1,1,1,1,1],\n",
    "                  [0,0,0,0,0,0],\n",
    "                  [1,1,0,0,0,1],\n",
    "                  [0,0,0,0,0,0],\n",
    "                  [0,1,1,0,0,1],\n",
    "                  [0,0,0,1,1,1],\n",
    "                  [0,1,1,1,0,0],\n",
    "                  [0,0,1,0,1,0],\n",
    "                  [0,0,0,0,1,0]])"
   ]
  },
  {
   "cell_type": "markdown",
   "metadata": {},
   "source": [
    "Import doctor availability input parameters below.\n",
    "\n",
    "*Assumption*: the *total* number of rooms is not a bottleneck in any time period. Therefore, we do not explicitly include any constraints related to the number of rooms available.\n",
    "\n"
   ]
  },
  {
   "cell_type": "code",
   "execution_count": 4,
   "metadata": {},
   "outputs": [],
   "source": [
    "C = np.array([5,5,5,3,3,3])"
   ]
  },
  {
   "cell_type": "markdown",
   "metadata": {},
   "source": [
    "### Setting up the model."
   ]
  },
  {
   "cell_type": "code",
   "execution_count": 5,
   "metadata": {},
   "outputs": [
    {
     "name": "stdout",
     "output_type": "stream",
     "text": [
      "Academic license - for non-commercial use only - expires 2022-08-29\n",
      "Using license file /Users/phoebe/gurobi.lic\n"
     ]
    }
   ],
   "source": [
    "m = Model(\"scheduling\")"
   ]
  },
  {
   "cell_type": "markdown",
   "metadata": {},
   "source": [
    "Set up decision variables:\n",
    "\n",
    "To define binary variables, add \"vtype=GRB.BINARY\" in the variable definition. This way Gurobi knows that each x[i,t] should be constrained to take value 0 or 1. "
   ]
  },
  {
   "cell_type": "code",
   "execution_count": 6,
   "metadata": {},
   "outputs": [],
   "source": [
    "# x[i,t] == 1 if we put patient i in time period t; x[i,t] == 0 if we do not put patient i in time period t.\n",
    "# This defines 6 x 20 = 120 decision variables simultaneously, one for each possible (patient, time period) match\n",
    "\n",
    "x = m.addVars(patients, periods, vtype=GRB.BINARY)"
   ]
  },
  {
   "cell_type": "markdown",
   "metadata": {},
   "source": [
    "Set objective function.\n",
    "Here because the objective function is very long, we initialize an LinExpr object to hold it first, and pass the LinExpr obj to setObjective function later."
   ]
  },
  {
   "cell_type": "code",
   "execution_count": 7,
   "metadata": {},
   "outputs": [],
   "source": [
    "# The objective is to maximize the total number of patients matched to a preferred time\n",
    "\n",
    "m.setObjective(sum(sum(alpha[i,t] * x[i,t] for i in patients) for t in periods), GRB.MAXIMIZE)"
   ]
  },
  {
   "cell_type": "markdown",
   "metadata": {},
   "source": [
    "Now set all the constraints:"
   ]
  },
  {
   "cell_type": "code",
   "execution_count": 8,
   "metadata": {},
   "outputs": [],
   "source": [
    "# For every patient, we want to schedule this patient\n",
    "for i in patients:\n",
    "    m.addConstr(sum(x[i,t] for t in periods) == 1)\n",
    "    \n",
    "# For every time period, we should not schedule more patients in this period than the number of available surgeons\n",
    "for t in periods:\n",
    "    m.addConstr(sum(x[i,t] for i in patients) <= C[t])"
   ]
  },
  {
   "cell_type": "markdown",
   "metadata": {},
   "source": [
    "### Solving the model.\n",
    " \n",
    "Integer program models can be much harder to solve than linear programs. It may very well be that a seemingly simple model can take hours or days to solve. So it is always a good computational practice to explicit set the solver run time."
   ]
  },
  {
   "cell_type": "code",
   "execution_count": 9,
   "metadata": {},
   "outputs": [
    {
     "name": "stdout",
     "output_type": "stream",
     "text": [
      "Changed value of parameter TimeLimit to 60.0\n",
      "   Prev: inf  Min: 0.0  Max: inf  Default: inf\n"
     ]
    }
   ],
   "source": [
    "m.Params.TimeLimit = 60 # seconds"
   ]
  },
  {
   "cell_type": "code",
   "execution_count": 11,
   "metadata": {},
   "outputs": [
    {
     "name": "stdout",
     "output_type": "stream",
     "text": [
      "Gurobi Optimizer version 9.1.2 build v9.1.2rc0 (mac64)\n",
      "Thread count: 2 physical cores, 4 logical processors, using up to 4 threads\n",
      "Optimize a model with 26 rows, 120 columns and 240 nonzeros\n",
      "Model fingerprint: 0xc13497e5\n",
      "Variable types: 0 continuous, 120 integer (120 binary)\n",
      "Coefficient statistics:\n",
      "  Matrix range     [1e+00, 1e+00]\n",
      "  Objective range  [1e+00, 1e+00]\n",
      "  Bounds range     [1e+00, 1e+00]\n",
      "  RHS range        [1e+00, 5e+00]\n",
      "Presolved: 26 rows, 120 columns, 240 nonzeros\n",
      "\n",
      "Continuing optimization...\n",
      "\n",
      "\n",
      "Explored 0 nodes (38 simplex iterations) in 0.07 seconds\n",
      "Thread count was 4 (of 4 available processors)\n",
      "\n",
      "Solution count 2: 18 9 \n",
      "\n",
      "Optimal solution found (tolerance 1.00e-04)\n",
      "Best objective 1.800000000000e+01, best bound 1.800000000000e+01, gap 0.0000%\n"
     ]
    }
   ],
   "source": [
    "# Solve\n",
    "m.optimize()"
   ]
  },
  {
   "cell_type": "markdown",
   "metadata": {},
   "source": [
    "In this case, it only takes a fraction of a second to solve, so our time limit was not activated."
   ]
  },
  {
   "cell_type": "markdown",
   "metadata": {},
   "source": [
    "Print the solution, i.e., objective value and the optimal variable values:"
   ]
  },
  {
   "cell_type": "code",
   "execution_count": 12,
   "metadata": {},
   "outputs": [
    {
     "name": "stdout",
     "output_type": "stream",
     "text": [
      "Retrieve Optimal Solution.\n",
      "Objective value = 18.0\n",
      "***\n",
      "Patient 0 is scheduled to time period 1\n",
      "Patient 1 is scheduled to time period 1\n",
      "Patient 2 is scheduled to time period 1\n",
      "Patient 3 is scheduled to time period 4\n",
      "Patient 4 is scheduled to time period 5\n",
      "Patient 5 is scheduled to time period 5\n",
      "Patient 6 is scheduled to time period 0\n",
      "Patient 7 is scheduled to time period 2\n",
      "Patient 8 is scheduled to time period 2\n",
      "Patient 9 is scheduled to time period 3\n",
      "Patient 10 is scheduled to time period 1\n",
      "Patient 11 is scheduled to time period 5\n",
      "Patient 12 is scheduled to time period 2\n",
      "Patient 13 is scheduled to time period 0\n",
      "Patient 14 is scheduled to time period 0\n",
      "Patient 15 is scheduled to time period 2\n",
      "Patient 16 is scheduled to time period 3\n",
      "Patient 17 is scheduled to time period 2\n",
      "Patient 18 is scheduled to time period 4\n",
      "Patient 19 is scheduled to time period 4\n",
      "***\n",
      "In time period 0 we scheduled 3.0 patients ( 5 surgeons available this period).\n",
      "In time period 1 we scheduled 4.0 patients ( 5 surgeons available this period).\n",
      "In time period 2 we scheduled 5.0 patients ( 5 surgeons available this period).\n",
      "In time period 3 we scheduled 2.0 patients ( 3 surgeons available this period).\n",
      "In time period 4 we scheduled 3.0 patients ( 3 surgeons available this period).\n",
      "In time period 5 we scheduled 3.0 patients ( 3 surgeons available this period).\n"
     ]
    }
   ],
   "source": [
    "print(\"Retrieve Optimal Solution.\")\n",
    "\n",
    "# Print objective value\n",
    "print(\"Objective value =\", m.objVal)\n",
    "\n",
    "print(\"***\")\n",
    "\n",
    "# Print the time period where the patient is scheduled into\n",
    "for i in patients:\n",
    "    checkSum = 0\n",
    "    scheduled_period = -1\n",
    "    for t in periods:\n",
    "        checkSum += x[i,t].x\n",
    "        if x[i,t].x == 1.0:\n",
    "            scheduled_period = t\n",
    "    if checkSum > 1:\n",
    "        print(\"Patient\", i, \"scheduled more than once, error.\")\n",
    "    print(\"Patient\", i, \"is scheduled to time period\", scheduled_period)\n",
    "    \n",
    "\n",
    "print(\"***\")\n",
    "\n",
    "# Print the number of patients for each period\n",
    "for t in periods:\n",
    "    num_patients = 0\n",
    "    for i in patients:\n",
    "        num_patients += x[i,t].x\n",
    "    print(\"In time period\", t, \"we scheduled\", num_patients, \"patients (\", C[t], \"surgeons available this period).\")"
   ]
  },
  {
   "cell_type": "markdown",
   "metadata": {},
   "source": [
    "### Discussion 1\n",
    "\n",
    "* What does the objective value mean in our case?\n",
    "* What happens if we change the surgeon capacity vector to [3,3,3,3,3,3]? i.e., 3 surgeons are available at each time period.\n",
    "    * Without using code, what do you think would happen?\n",
    "    * With code, what do you observe?"
   ]
  },
  {
   "cell_type": "markdown",
   "metadata": {},
   "source": [
    "### Extension 1: Urgent care"
   ]
  },
  {
   "cell_type": "markdown",
   "metadata": {},
   "source": [
    "Some patients require urgent care, meaning they need to be scheduled to the first two periods (period 0 or 1).\n",
    "Assume this urgent care **parameter** set is given as a vector u. "
   ]
  },
  {
   "cell_type": "code",
   "execution_count": 13,
   "metadata": {},
   "outputs": [],
   "source": [
    "u = np.array([1,0,1,0,0,1,0,0,0,0,1,0,0,0,1,0,0,0,0,0])\n",
    "# patients 0, 2, 5, 10, 14 need urgent care\n"
   ]
  },
  {
   "cell_type": "code",
   "execution_count": 14,
   "metadata": {},
   "outputs": [],
   "source": [
    "for i in patients:\n",
    "    m.addConstr(sum(u[i] * x[i,t] for t in periods[2:]) == 0)"
   ]
  },
  {
   "cell_type": "markdown",
   "metadata": {},
   "source": [
    "Note that we are not implementing the optimization model m from scratch.\n",
    "We are simply adding the additional, new constraints to the model.\n",
    "This is okay even though we have already \"solved\" m."
   ]
  },
  {
   "cell_type": "code",
   "execution_count": null,
   "metadata": {},
   "outputs": [],
   "source": [
    "# Resolve the model with the additional set of constraints.\n",
    "m.optimize()"
   ]
  },
  {
   "cell_type": "markdown",
   "metadata": {},
   "source": [
    "Now let's check the solution and make sure patients needing urgent care are indeed scheduled to periods 0 or 1."
   ]
  },
  {
   "cell_type": "code",
   "execution_count": null,
   "metadata": {},
   "outputs": [],
   "source": [
    "for i in patients:\n",
    "    if u[i] > 0:\n",
    "        scheduled_period = -1\n",
    "        for t in periods:\n",
    "            if x[i,t].x == 1.0:\n",
    "                scheduled_period = t\n",
    "        print(\"Patient\", i, \"requires urgent care, and is scheduled to period \", scheduled_period)"
   ]
  },
  {
   "cell_type": "code",
   "execution_count": null,
   "metadata": {},
   "outputs": [],
   "source": [
    "print(\"***\")\n",
    "\n",
    "# Print the time period that the patient is scheduled into\n",
    "for i in patients:\n",
    "    checkSum = 0\n",
    "    scheduled_period = -1\n",
    "    for t in periods:\n",
    "        checkSum += x[i,t].x\n",
    "        if x[i,t].x == 1.0:\n",
    "            scheduled_period = t\n",
    "    if checkSum > 1:\n",
    "        print(\"Patient\", i, \"scheduled more than once, error.\")\n",
    "    print(\"Patient\", i, \"is scheduled to time period\", scheduled_period)\n",
    "    \n",
    "\n",
    "print(\"***\")\n",
    "\n",
    "# Print the number of patients for each period\n",
    "for t in periods:\n",
    "    num_patients = 0\n",
    "    for i in patients:\n",
    "        num_patients += x[i,t].x\n",
    "    print(\"In time period\", t, \"we scheduled\", num_patients, \"patients (\", C[t], \"surgeons available this period).\")"
   ]
  },
  {
   "cell_type": "markdown",
   "metadata": {},
   "source": [
    "### Extension 2: Specialized surgery\n",
    "Some patients require orthopedics surgery, and only two operating rooms have the required equipment to perform orthopedics surgery.\n",
    "\n",
    "*Assumption*: the *total* number of rooms is not a bottleneck in any time period. Therefore, we do not explicitly include any constraints related to the number of rooms available."
   ]
  },
  {
   "cell_type": "markdown",
   "metadata": {},
   "source": [
    "Suppose we have **input parameters** o_i, telling us which patients need orthopedics surgery."
   ]
  },
  {
   "cell_type": "code",
   "execution_count": null,
   "metadata": {},
   "outputs": [],
   "source": [
    "o = np.array([1,0,0,0,0,0,0,0,0,1,1,1,0,1,1,0,0,0,0,0]) # o[i] is 1 if patient i requires orthopedics surgery"
   ]
  },
  {
   "cell_type": "markdown",
   "metadata": {},
   "source": [
    "Add the constraint: for each time period t, we can not schedule more than 2 patients that require orthopedics surgery"
   ]
  },
  {
   "cell_type": "code",
   "execution_count": null,
   "metadata": {},
   "outputs": [],
   "source": [
    "for t in periods:\n",
    "    m.addConstr(sum(o[i] * x[i,t] for i in patients) <= 2)"
   ]
  },
  {
   "cell_type": "code",
   "execution_count": null,
   "metadata": {},
   "outputs": [],
   "source": [
    "m.optimize()"
   ]
  },
  {
   "cell_type": "code",
   "execution_count": null,
   "metadata": {},
   "outputs": [],
   "source": [
    "print(\"***\")\n",
    "\n",
    "# Print the time period where the patient is scheduled into\n",
    "for i in patients:\n",
    "    checkSum = 0\n",
    "    scheduled_period = -1\n",
    "    for t in periods:\n",
    "        checkSum += x[i,t].x\n",
    "        if x[i,t].x == 1.0:\n",
    "            scheduled_period = t\n",
    "    if checkSum > 1:\n",
    "        print(\"Patient\", i, \"scheduled more than once, error.\")\n",
    "    print(\"Patient\", i, \"is scheduled to time period\", scheduled_period)\n",
    "    \n",
    "\n",
    "print(\"***\")\n",
    "\n",
    "# Print the number of patients for each period\n",
    "for t in periods:\n",
    "    num_patients = 0\n",
    "    for i in patients:\n",
    "        num_patients += x[i,t].x\n",
    "    print(\"In time period\", t, \"we scheduled\", num_patients, \"patients (\", C[t], \"surgeons available this period).\")\n",
    "    \n",
    "print(\"***\")\n",
    "\n",
    "for i in patients:\n",
    "    if u[i] > 0:\n",
    "        scheduled_period = -1\n",
    "        for t in periods:\n",
    "            if x[i,t].x == 1.0:\n",
    "                scheduled_period = t\n",
    "        print(\"Patient\", i, \"requires urgent care, and is scheduled to period \", scheduled_period)\n",
    "        \n",
    "print(\"***\")\n",
    "\n",
    "for t in periods:\n",
    "    num_orthopedics = 0\n",
    "    for i in patients:\n",
    "        if o[i] == 1 and x[i,t].x == 1:\n",
    "            num_orthopedics += 1\n",
    "    print(\"Period\", t, \"has\", num_orthopedics, \"orthopedics patients\")"
   ]
  },
  {
   "cell_type": "markdown",
   "metadata": {},
   "source": [
    "### Discussion 2\n",
    "* Did the objective value change in the previous three solutions? What does that imply?"
   ]
  },
  {
   "cell_type": "markdown",
   "metadata": {},
   "source": [
    "### Extension 3: Patient 3 can not do surgery after patient 4\n",
    "Let's say i=2 is patient 3, and i=3 is patient 4"
   ]
  },
  {
   "cell_type": "code",
   "execution_count": null,
   "metadata": {},
   "outputs": [],
   "source": [
    "m.addConstr(sum(x[2,t] * t for t in periods) <= sum(x[3,t] * t for t in periods))"
   ]
  },
  {
   "cell_type": "code",
   "execution_count": null,
   "metadata": {},
   "outputs": [],
   "source": [
    "m.optimize()"
   ]
  },
  {
   "cell_type": "code",
   "execution_count": null,
   "metadata": {},
   "outputs": [],
   "source": [
    "print(\"Patient 3 is scheduled in period\", sum(x[2,t].x * t for t in periods))\n",
    "print(\"Patient 4 is scheduled in period\", sum(x[3,t].x * t for t in periods))"
   ]
  },
  {
   "cell_type": "markdown",
   "metadata": {},
   "source": [
    "### Visualizing the final schedule"
   ]
  },
  {
   "cell_type": "code",
   "execution_count": null,
   "metadata": {},
   "outputs": [],
   "source": [
    "import seaborn as sns\n",
    "import matplotlib.pyplot as plt\n",
    "\n",
    "final_schedule = np.zeros([n, T], dtype=bool)\n",
    "\n",
    "for i in patients:\n",
    "    for t in periods:\n",
    "        final_schedule[i,t] = x[i,t].x\n",
    "\n",
    "ax = sns.heatmap(final_schedule, linewidths=5, cmap=\"YlGnBu\", square=False, cbar=False)\n",
    "\n",
    "ax.set(xlabel=\"Time Slot\", ylabel=\"Patient #\")\n",
    "\n",
    "plt.show()"
   ]
  }
 ],
 "metadata": {
  "kernelspec": {
   "display_name": "Python 3",
   "language": "python",
   "name": "python3"
  },
  "language_info": {
   "codemirror_mode": {
    "name": "ipython",
    "version": 3
   },
   "file_extension": ".py",
   "mimetype": "text/x-python",
   "name": "python",
   "nbconvert_exporter": "python",
   "pygments_lexer": "ipython3",
   "version": "3.7.6"
  }
 },
 "nbformat": 4,
 "nbformat_minor": 5
}
