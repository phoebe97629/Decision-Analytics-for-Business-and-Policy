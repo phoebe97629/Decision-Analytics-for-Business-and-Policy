{
 "cells": [
  {
   "cell_type": "markdown",
   "metadata": {},
   "source": [
    "# Facility Location\n",
    "## Interger Programming Example"
   ]
  },
  {
   "cell_type": "code",
   "execution_count": 1,
   "metadata": {},
   "outputs": [],
   "source": [
    "from gurobipy import *\n",
    "import numpy as np"
   ]
  },
  {
   "cell_type": "markdown",
   "metadata": {},
   "source": [
    "### Setting up indices, parameters.\n",
    "Set up indices for sites and markets. In this example, we have 5 production plants, and 4 markets."
   ]
  },
  {
   "cell_type": "code",
   "execution_count": 2,
   "metadata": {},
   "outputs": [],
   "source": [
    "n = 5 # 5 sites for potential plants\n",
    "m = 4 # 4 markets\n",
    "sites = range(n) # Equivalently, sites = [0,1,2,3,4]\n",
    "markets = range(m) # Equivalently, markets = [0,1,2,3]"
   ]
  },
  {
   "cell_type": "markdown",
   "metadata": {},
   "source": [
    "Import parameters values. Note that the dimensions of the parameter vectors/matrices should be consistent with n and m.  "
   ]
  },
  {
   "cell_type": "code",
   "execution_count": 3,
   "metadata": {},
   "outputs": [],
   "source": [
    "# Warehouse demand in thousands of units\n",
    "demand = np.array([15, 18, 14, 20])\n",
    "\n",
    "# Plant capacity in thousands of units\n",
    "capacity = np.array([20, 22, 17, 19, 18])\n",
    "\n",
    "# Fixed costs for each plant\n",
    "fixedCosts = np.array([12000, 15000, 17000, 13000, 16000])\n",
    "\n",
    "# Production cost (per 1000 units) at each plan\n",
    "prodCosts = np.array([220, 350, 170, 330, 240])\n",
    "\n",
    "# Transportation costs per thousand units\n",
    "transportationCosts = np.array([[4000, 2500, 1200, 2200],\n",
    "              [2000, 2600, 1800, 2600],\n",
    "              [3000, 3400, 2600, 3100],\n",
    "              [2500, 3000, 4100, 3700],\n",
    "              [4500, 4000, 3000, 3200]])"
   ]
  },
  {
   "cell_type": "markdown",
   "metadata": {},
   "source": [
    "### Setting up the model."
   ]
  },
  {
   "cell_type": "code",
   "execution_count": 4,
   "metadata": {},
   "outputs": [
    {
     "name": "stdout",
     "output_type": "stream",
     "text": [
      "Academic license - for non-commercial use only - expires 2022-08-29\n",
      "Using license file /Users/phoebe/gurobi.lic\n"
     ]
    }
   ],
   "source": [
    "m = Model(\"facility\")"
   ]
  },
  {
   "cell_type": "markdown",
   "metadata": {},
   "source": [
    "Set up decision variables.\n",
    "\n",
    "To define binary variables, add \"vtype=GRB.BINARY\" in the variable definition. This way Gurobi knows that each x[i] should be constrained to take value 0 or 1. "
   ]
  },
  {
   "cell_type": "code",
   "execution_count": 5,
   "metadata": {},
   "outputs": [],
   "source": [
    "# Plant open decision variables, taking value 0 or 1\n",
    "# x[i] == 1 if plant i is open.\n",
    "x = m.addVars(sites, vtype=GRB.BINARY)"
   ]
  },
  {
   "cell_type": "markdown",
   "metadata": {},
   "source": [
    "Define other variables.\n",
    "Note that we are setting the variable non-negativity constraints here directly, by setting the lower bound to be 0.0. This way, each element of y is set to be >= 0, and each element of z is set to be >= 0.0. This is equivalent to explicitly setting a non-negativity constraint \"for i in sites: m.addConstr(y[i] >= 0.0)\""
   ]
  },
  {
   "cell_type": "code",
   "execution_count": 6,
   "metadata": {},
   "outputs": [],
   "source": [
    "# production variable y\n",
    "y = m.addVars(sites, lb=0.0)\n",
    "\n",
    "# shipment variable z\n",
    "z = m.addVars(sites, markets, lb=0.0)"
   ]
  },
  {
   "cell_type": "markdown",
   "metadata": {},
   "source": [
    "Set objective function.\n",
    "Here because the objective function is very long, we initialize an LinExpr object to hold it first, and pass the LinExpr obj to setObjective function later."
   ]
  },
  {
   "cell_type": "code",
   "execution_count": 7,
   "metadata": {},
   "outputs": [],
   "source": [
    "# The objective is to minimize the total fixed and variable costs\n",
    "objFn = LinExpr()\n",
    "objFn += sum(fixedCosts[i] * x[i] for i in sites)\n",
    "objFn += sum(prodCosts[i] * y[i] for i in sites)\n",
    "objFn += sum(sum(transportationCosts[i,j] * z[i,j] for i in sites) for j in markets)\n",
    "m.setObjective(objFn, GRB.MINIMIZE)"
   ]
  },
  {
   "cell_type": "markdown",
   "metadata": {},
   "source": [
    "Now set all the constraints."
   ]
  },
  {
   "cell_type": "code",
   "execution_count": 8,
   "metadata": {},
   "outputs": [],
   "source": [
    "# Production constraints\n",
    "for i in sites:\n",
    "    m.addConstr(y[i] <= capacity[i] * x[i])\n",
    "\n",
    "# Outbound transportation constraints\n",
    "for i in sites:\n",
    "    m.addConstr(sum(z[i,j] for j in markets) <= y[i])\n",
    "\n",
    "# Demand satisfication constraints\n",
    "for j in markets:\n",
    "    m.addConstr(sum(z[i,j] for i in sites) >= demand[j])"
   ]
  },
  {
   "cell_type": "markdown",
   "metadata": {},
   "source": [
    "### Solving the model.\n",
    " \n",
    "Integer program models can be much harder to solve than linear programs. It may very well be that a seemingly simple model can take hours or days to solve. So it is always a good computational practice to explicit set the solver run time."
   ]
  },
  {
   "cell_type": "code",
   "execution_count": 9,
   "metadata": {},
   "outputs": [
    {
     "name": "stdout",
     "output_type": "stream",
     "text": [
      "Changed value of parameter TimeLimit to 60.0\n",
      "   Prev: inf  Min: 0.0  Max: inf  Default: inf\n"
     ]
    }
   ],
   "source": [
    "m.Params.TimeLimit = 60 # seconds"
   ]
  },
  {
   "cell_type": "code",
   "execution_count": 10,
   "metadata": {},
   "outputs": [
    {
     "name": "stdout",
     "output_type": "stream",
     "text": [
      "Gurobi Optimizer version 9.1.2 build v9.1.2rc0 (mac64)\n",
      "Thread count: 2 physical cores, 4 logical processors, using up to 4 threads\n",
      "Optimize a model with 14 rows, 30 columns and 55 nonzeros\n",
      "Model fingerprint: 0x075158d1\n",
      "Variable types: 25 continuous, 5 integer (5 binary)\n",
      "Coefficient statistics:\n",
      "  Matrix range     [1e+00, 2e+01]\n",
      "  Objective range  [2e+02, 2e+04]\n",
      "  Bounds range     [1e+00, 1e+00]\n",
      "  RHS range        [1e+01, 2e+01]\n",
      "Presolve removed 5 rows and 5 columns\n",
      "Presolve time: 0.00s\n",
      "Presolved: 9 rows, 25 columns, 45 nonzeros\n",
      "Variable types: 20 continuous, 5 integer (5 binary)\n",
      "\n",
      "Root relaxation: objective 2.192900e+05, 16 iterations, 0.00 seconds\n",
      "\n",
      "    Nodes    |    Current Node    |     Objective Bounds      |     Work\n",
      " Expl Unexpl |  Obj  Depth IntInf | Incumbent    BestBd   Gap | It/Node Time\n",
      "\n",
      "     0     0 219290.000    0    1          - 219290.000      -     -    0s\n",
      "H    0     0                    229710.00000 219290.000  4.54%     -    0s\n",
      "     0     0     cutoff    0      229710.000 229710.000  0.00%     -    0s\n",
      "\n",
      "Cutting planes:\n",
      "  Gomory: 1\n",
      "  MIR: 1\n",
      "\n",
      "Explored 1 nodes (21 simplex iterations) in 0.06 seconds\n",
      "Thread count was 4 (of 4 available processors)\n",
      "\n",
      "Solution count 1: 229710 \n",
      "\n",
      "Optimal solution found (tolerance 1.00e-04)\n",
      "Best objective 2.297100000000e+05, best bound 2.297100000000e+05, gap 0.0000%\n"
     ]
    }
   ],
   "source": [
    "# Solve\n",
    "m.optimize()"
   ]
  },
  {
   "cell_type": "markdown",
   "metadata": {},
   "source": [
    "In this case, it only takes a fraction of a second to solve, so our time limit was not activated."
   ]
  },
  {
   "cell_type": "markdown",
   "metadata": {},
   "source": [
    "Print the solution, i.e., objective value and the optimal variable values:"
   ]
  },
  {
   "cell_type": "code",
   "execution_count": 12,
   "metadata": {},
   "outputs": [
    {
     "name": "stdout",
     "output_type": "stream",
     "text": [
      "Objective value, total cost =  229710.0\n",
      "Facility opening decisions: plant number, decision\n",
      "Plant  0  opening decision: ' 1.0\n",
      "Plant  1  opening decision: ' 1.0\n",
      "Plant  2  opening decision: ' 1.0\n",
      "Plant  3  opening decision: ' 1.0\n",
      "Plant  4  opening decision: ' -0.0\n",
      "Production decisions: plant number, production quantity\n",
      "Plant  0  produces  20.0\n",
      "Plant  1  produces  22.0\n",
      "Plant  2  produces  14.0\n",
      "Plant  3  produces  11.0\n",
      "Plant  4  produces  0.0\n",
      "Shipment decisions: plant number, market number, shipment quantity\n",
      "Plant  0  ships to market  0 :  0.0\n",
      "Plant  0  ships to market  1 :  0.0\n",
      "Plant  0  ships to market  2 :  14.0\n",
      "Plant  0  ships to market  3 :  6.0\n",
      "Plant  1  ships to market  0 :  15.0\n",
      "Plant  1  ships to market  1 :  7.0\n",
      "Plant  1  ships to market  2 :  0.0\n",
      "Plant  1  ships to market  3 :  0.0\n",
      "Plant  2  ships to market  0 :  0.0\n",
      "Plant  2  ships to market  1 :  0.0\n",
      "Plant  2  ships to market  2 :  0.0\n",
      "Plant  2  ships to market  3 :  14.0\n",
      "Plant  3  ships to market  0 :  0.0\n",
      "Plant  3  ships to market  1 :  11.0\n",
      "Plant  3  ships to market  2 :  0.0\n",
      "Plant  3  ships to market  3 :  0.0\n",
      "Plant  4  ships to market  0 :  0.0\n",
      "Plant  4  ships to market  1 :  0.0\n",
      "Plant  4  ships to market  2 :  0.0\n",
      "Plant  4  ships to market  3 :  0.0\n"
     ]
    }
   ],
   "source": [
    "# Print optimal cost\n",
    "print(\"Objective value, total cost = \", m.objVal)\n",
    "\n",
    "# Print optimal solution\n",
    "print(\"Facility opening decisions: plant number, decision\")\n",
    "for i in sites:\n",
    "    print(\"Plant \", i, \" opening decision: '\", x[i].x)\n",
    "    \n",
    "print(\"Production decisions: plant number, production quantity\")\n",
    "for i in sites:\n",
    "    print(\"Plant \", i, \" produces \", y[i].x)\n",
    "    \n",
    "print(\"Shipment decisions: plant number, market number, shipment quantity\")\n",
    "for i in sites:\n",
    "    for j in markets:\n",
    "        print(\"Plant \", i, \" ships to market \", j, \": \", z[i,j].x)"
   ]
  },
  {
   "cell_type": "code",
   "execution_count": null,
   "metadata": {},
   "outputs": [],
   "source": []
  }
 ],
 "metadata": {
  "kernelspec": {
   "display_name": "Python 3",
   "language": "python",
   "name": "python3"
  },
  "language_info": {
   "codemirror_mode": {
    "name": "ipython",
    "version": 3
   },
   "file_extension": ".py",
   "mimetype": "text/x-python",
   "name": "python",
   "nbconvert_exporter": "python",
   "pygments_lexer": "ipython3",
   "version": "3.7.6"
  }
 },
 "nbformat": 4,
 "nbformat_minor": 5
}
