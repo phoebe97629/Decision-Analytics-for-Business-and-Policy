{
 "cells": [
  {
   "cell_type": "markdown",
   "metadata": {},
   "source": [
    "### Homework 4\n",
    "#### Integer Programming: traveling salesman problem"
   ]
  },
  {
   "cell_type": "code",
   "execution_count": 6,
   "metadata": {},
   "outputs": [],
   "source": [
    "import gurobipy as gp\n",
    "from gurobipy import GRB\n",
    "import pandas as pd\n",
    "import numpy as np\n",
    "import matplotlib.pyplot as plt"
   ]
  },
  {
   "cell_type": "markdown",
   "metadata": {},
   "source": [
    "Read in distance matrix."
   ]
  },
  {
   "cell_type": "code",
   "execution_count": 7,
   "metadata": {},
   "outputs": [
    {
     "name": "stdout",
     "output_type": "stream",
     "text": [
      "[[0 3 4 2 7]\n",
      " [3 0 4 6 3]\n",
      " [4 4 0 5 8]\n",
      " [2 6 5 0 6]\n",
      " [7 3 8 6 0]]\n"
     ]
    }
   ],
   "source": [
    "D = pd.read_csv('five_d.csv', index_col=None, header=None).values\n",
    "n = len(D)\n",
    "cities = range(n)\n",
    "print(D)"
   ]
  },
  {
   "cell_type": "markdown",
   "metadata": {},
   "source": [
    "Initialize Gurobi model"
   ]
  },
  {
   "cell_type": "code",
   "execution_count": 8,
   "metadata": {},
   "outputs": [],
   "source": [
    "m = gp.Model('TSP')"
   ]
  },
  {
   "cell_type": "markdown",
   "metadata": {},
   "source": [
    "Add variables x"
   ]
  },
  {
   "cell_type": "code",
   "execution_count": 17,
   "metadata": {},
   "outputs": [],
   "source": [
    "#xij, i = n, j = n ,N*N matrics, same size as D. \n",
    "x = m.addVars(cities,cities,vtype = GRB.BINARY)"
   ]
  },
  {
   "cell_type": "markdown",
   "metadata": {},
   "source": [
    "Set objective function to minimize the total tour length"
   ]
  },
  {
   "cell_type": "code",
   "execution_count": 19,
   "metadata": {},
   "outputs": [],
   "source": [
    "m.setObjective(sum(sum(D[i,j] * x[i,j] for i in cities) for j in cities), GRB.MINIMIZE)"
   ]
  },
  {
   "cell_type": "markdown",
   "metadata": {},
   "source": [
    "Add constraints"
   ]
  },
  {
   "cell_type": "code",
   "execution_count": 30,
   "metadata": {},
   "outputs": [],
   "source": [
    "# Constraints here....\n",
    "#1. xij = xji \n",
    "for i in cities:\n",
    "    for j in cities:\n",
    "        m.addConstr(x[i,j] == x[j,i])\n",
    "\n",
    "#2. \n",
    "for i in cities:\n",
    "    for j in cities:\n",
    "        if i ==j:\n",
    "            m.addConstr(x[i,j] == 0)\n",
    "            \n",
    "\n",
    "#3. sum xij == 2\n",
    "\n",
    "for i in cities:\n",
    "    m.addConstr(sum(x[i,j] for j in cities) == 2)\n",
    "\n",
    "\n",
    "\n",
    "# Helper function for the subtour elimination constraint\n",
    "def get_power_set(s):\n",
    "    power_set=[[]]\n",
    "    for elem in s:\n",
    "        for sub_set in power_set:\n",
    "            power_set=power_set+[list(sub_set)+[elem]]\n",
    "    return power_set\n",
    "\n",
    "power_set = get_power_set(cities)\n",
    "\n",
    "# Sub-tour elimination constraint\n",
    "for S in power_set:\n",
    "    arcs = gp.LinExpr()\n",
    "    if len(S) > 0 and len(S) < n:\n",
    "        for i in S:\n",
    "            for j in S:\n",
    "                arcs += x[i,j]\n",
    "        m.addConstr(arcs <= 2 * (len(S) - 1))"
   ]
  },
  {
   "cell_type": "markdown",
   "metadata": {},
   "source": [
    "Optimize model"
   ]
  },
  {
   "cell_type": "code",
   "execution_count": 31,
   "metadata": {
    "scrolled": true
   },
   "outputs": [
    {
     "name": "stdout",
     "output_type": "stream",
     "text": [
      "Gurobi Optimizer version 9.1.2 build v9.1.2rc0 (mac64)\n",
      "Thread count: 2 physical cores, 4 logical processors, using up to 4 threads\n",
      "Optimize a model with 240 rows, 25 columns and 890 nonzeros\n",
      "Model fingerprint: 0x30ecb6db\n",
      "Variable types: 0 continuous, 25 integer (25 binary)\n",
      "Coefficient statistics:\n",
      "  Matrix range     [1e+00, 1e+00]\n",
      "  Objective range  [2e+00, 8e+00]\n",
      "  Bounds range     [1e+00, 1e+00]\n",
      "  RHS range        [2e+00, 6e+00]\n",
      "Presolve removed 220 rows and 15 columns\n",
      "Presolve time: 0.02s\n",
      "Presolved: 20 rows, 10 columns, 80 nonzeros\n",
      "Variable types: 0 continuous, 10 integer (10 binary)\n",
      "Found heuristic solution: objective 54.0000000\n",
      "Found heuristic solution: objective 38.0000000\n",
      "\n",
      "Root relaxation: cutoff, 4 iterations, 0.00 seconds\n",
      "\n",
      "    Nodes    |    Current Node    |     Objective Bounds      |     Work\n",
      " Expl Unexpl |  Obj  Depth IntInf | Incumbent    BestBd   Gap | It/Node Time\n",
      "\n",
      "     0     0     cutoff    0        38.00000   38.00000  0.00%     -    0s\n",
      "\n",
      "Explored 0 nodes (4 simplex iterations) in 0.07 seconds\n",
      "Thread count was 4 (of 4 available processors)\n",
      "\n",
      "Solution count 2: 38 54 \n",
      "\n",
      "Optimal solution found (tolerance 1.00e-04)\n",
      "Best objective 3.800000000000e+01, best bound 3.800000000000e+01, gap 0.0000%\n"
     ]
    }
   ],
   "source": [
    "m.optimize()"
   ]
  },
  {
   "cell_type": "code",
   "execution_count": 35,
   "metadata": {},
   "outputs": [
    {
     "name": "stdout",
     "output_type": "stream",
     "text": [
      "Objective value, total distance =  38.0\n",
      "Since the distance count twice, the actual distance should be 19.0\n"
     ]
    }
   ],
   "source": [
    "# Print solution\n",
    "print(\"Objective value, total distance = \", m.objVal)\n",
    "print('Since the distance count twice, the actual distance should be',m.objVal/2)"
   ]
  },
  {
   "cell_type": "code",
   "execution_count": 40,
   "metadata": {},
   "outputs": [
    {
     "name": "stdout",
     "output_type": "stream",
     "text": [
      "[[ 0. -0.  1.  1. -0.]\n",
      " [ 0.  0.  1. -0.  1.]\n",
      " [ 1.  1.  0. -0. -0.]\n",
      " [ 1.  0.  0.  0.  1.]\n",
      " [ 0.  1.  0.  1.  0.]]\n"
     ]
    }
   ],
   "source": [
    "route = np.zeros([5,5])\n",
    "for i in cities:\n",
    "    for j in cities:\n",
    "        route[i,j] = x[i,j].x\n",
    "print(route)"
   ]
  },
  {
   "cell_type": "code",
   "execution_count": null,
   "metadata": {},
   "outputs": [],
   "source": []
  }
 ],
 "metadata": {
  "kernelspec": {
   "display_name": "Python 3",
   "language": "python",
   "name": "python3"
  },
  "language_info": {
   "codemirror_mode": {
    "name": "ipython",
    "version": 3
   },
   "file_extension": ".py",
   "mimetype": "text/x-python",
   "name": "python",
   "nbconvert_exporter": "python",
   "pygments_lexer": "ipython3",
   "version": "3.7.6"
  }
 },
 "nbformat": 4,
 "nbformat_minor": 4
}
