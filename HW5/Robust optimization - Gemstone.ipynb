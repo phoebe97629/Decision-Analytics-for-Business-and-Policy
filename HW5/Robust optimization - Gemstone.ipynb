{
 "cells": [
  {
   "cell_type": "markdown",
   "metadata": {},
   "source": [
    "## Gemstone Tools\n",
    "### Robust Optimization Example for Decision Analytics for Business and Policy"
   ]
  },
  {
   "cell_type": "code",
   "execution_count": 1,
   "metadata": {},
   "outputs": [],
   "source": [
    "import gurobipy as gp\n",
    "from gurobipy import GRB\n",
    "import pandas as pd\n",
    "import numpy as np\n",
    "import matplotlib.pyplot as plt"
   ]
  },
  {
   "cell_type": "markdown",
   "metadata": {},
   "source": [
    "Initialize Gurobi model"
   ]
  },
  {
   "cell_type": "code",
   "execution_count": 2,
   "metadata": {},
   "outputs": [
    {
     "name": "stdout",
     "output_type": "stream",
     "text": [
      "Academic license - for non-commercial use only - expires 2022-09-12\n",
      "Using license file /Users/yunz2/gurobi.lic\n"
     ]
    }
   ],
   "source": [
    "m = gp.Model(\"Gemstone\")"
   ]
  },
  {
   "cell_type": "markdown",
   "metadata": {},
   "source": [
    "Add variables"
   ]
  },
  {
   "cell_type": "code",
   "execution_count": 3,
   "metadata": {},
   "outputs": [],
   "source": [
    "W1 = m.addVar(lb = 0.0, ub = 15)\n",
    "W2 = m.addVar(lb = 0.0, ub = 15)\n",
    "W3 = m.addVar(lb = 0.0, ub = 15)\n",
    "W4 = m.addVar(lb = 0.0, ub = 15)\n",
    "P1 = m.addVar(lb = 0.0, ub = 16)\n",
    "P2 = m.addVar(lb = 0.0, ub = 16)\n",
    "P3 = m.addVar(lb = 0.0, ub = 16)\n",
    "P4 = m.addVar(lb = 0.0, ub = 16)\n",
    "S = m.addVar(lb = 0.0)\n",
    "z = m.addVar(lb = 0.0) # worst-case profit"
   ]
  },
  {
   "cell_type": "markdown",
   "metadata": {},
   "source": [
    "Set objective function to maximize profit minus costs"
   ]
  },
  {
   "cell_type": "code",
   "execution_count": 4,
   "metadata": {},
   "outputs": [],
   "source": [
    "m.setObjective(z)\n",
    "m.modelSense = GRB.MAXIMIZE"
   ]
  },
  {
   "cell_type": "markdown",
   "metadata": {},
   "source": [
    "Add constraints"
   ]
  },
  {
   "cell_type": "code",
   "execution_count": 5,
   "metadata": {},
   "outputs": [
    {
     "data": {
      "text/plain": [
       "<gurobi.Constr *Awaiting Model Update*>"
      ]
     },
     "execution_count": 5,
     "metadata": {},
     "output_type": "execute_result"
    }
   ],
   "source": [
    "# Scenario 1\n",
    "m.addConstr(1.5 * W1 + 1.0 * P1 <= S)\n",
    "m.addConstr(1.0 * W1 + 1.0 * P1 <= 21)\n",
    "m.addConstr(0.3 * W1 + 0.5 * P1 <= 8)\n",
    "m.addConstr(z <= 160 * W1 + 100 * P1 - 58 * S)\n",
    "\n",
    "# Scenario 2\n",
    "m.addConstr(1.5 * W2 + 1.0 * P2 <= S)\n",
    "m.addConstr(1.0 * W2 + 1.0 * P2 <= 21)\n",
    "m.addConstr(0.3 * W2 + 0.5 * P2 <= 10)\n",
    "m.addConstr(z <= 160 * W2 + 100 * P2 - 58 * S)\n",
    "\n",
    "# Scenario 3\n",
    "m.addConstr(1.5 * W3 + 1.0 * P3 <= S)\n",
    "m.addConstr(1.0 * W3 + 1.0 * P3 <= 21)\n",
    "m.addConstr(0.3 * W3 + 0.5 * P3 <= 8)\n",
    "m.addConstr(z <= 90 * W3 + 100 * P3 - 58 * S)\n",
    "\n",
    "# Scenario 4\n",
    "m.addConstr(1.5 * W4 + 1.0 * P4 <= S)\n",
    "m.addConstr(1.0 * W4 + 1.0 * P4 <= 21)\n",
    "m.addConstr(0.3 * W4 + 0.5 * P4 <= 10)\n",
    "m.addConstr(z <= 90 * W4 + 100 * P4 - 58 * S)"
   ]
  },
  {
   "cell_type": "markdown",
   "metadata": {},
   "source": [
    "Optimize model"
   ]
  },
  {
   "cell_type": "code",
   "execution_count": 6,
   "metadata": {},
   "outputs": [
    {
     "name": "stdout",
     "output_type": "stream",
     "text": [
      "Gurobi Optimizer version 9.1.2 build v9.1.2rc0 (mac64)\n",
      "Thread count: 8 physical cores, 8 logical processors, using up to 8 threads\n",
      "Optimize a model with 16 rows, 10 columns and 44 nonzeros\n",
      "Model fingerprint: 0xf364007a\n",
      "Coefficient statistics:\n",
      "  Matrix range     [3e-01, 2e+02]\n",
      "  Objective range  [1e+00, 1e+00]\n",
      "  Bounds range     [2e+01, 2e+01]\n",
      "  RHS range        [8e+00, 2e+01]\n",
      "Presolve time: 0.00s\n",
      "Presolved: 16 rows, 10 columns, 44 nonzeros\n",
      "\n",
      "Iteration    Objective       Primal Inf.    Dual Inf.      Time\n",
      "       0    3.2000000e+31   4.000000e+30   3.200000e+01      0s\n",
      "      11    6.7200000e+02   0.000000e+00   0.000000e+00      0s\n",
      "\n",
      "Solved in 11 iterations and 0.01 seconds\n",
      "Optimal objective  6.720000000e+02\n"
     ]
    }
   ],
   "source": [
    "m.optimize()"
   ]
  },
  {
   "cell_type": "code",
   "execution_count": 7,
   "metadata": {},
   "outputs": [
    {
     "name": "stdout",
     "output_type": "stream",
     "text": [
      "We purchase 16000.0 lb of steel.\n",
      "In scenario 1, we produce 10666.666666666666 wrenches and 0.0 pliers, resulting in a profit of 778.6666666666665\n",
      "In scenario 2, we produce 0.0 wrenches and 16000.0 pliers, resulting in a profit of 672.0\n",
      "In scenario 3, we produce 0.0 wrenches and 16000.0 pliers, resulting in a profit of 672.0\n",
      "In scenario 4, we produce 0.0 wrenches and 16000.0 pliers, resulting in a profit of 672.0\n",
      "Our expected profit is 684.8\n",
      "Our worst-case profit is 672.0\n"
     ]
    }
   ],
   "source": [
    "print(\"We purchase\", S.x * 1000, \"lb of steel.\")\n",
    "\n",
    "\n",
    "profit_1 = 160 * W1.x + 100 * P1.x - 58 * S.x\n",
    "print(\"In scenario 1, we produce\", W1.x*1000, \"wrenches and\", P1.x*1000, \"pliers, resulting in a profit of\", profit_1)\n",
    "\n",
    "profit_2 = 160 * W2.x + 100 * P2.x - 58 * S.x\n",
    "print(\"In scenario 2, we produce\", W2.x*1000, \"wrenches and\", P2.x*1000, \"pliers, resulting in a profit of\", profit_2)\n",
    "\n",
    "profit_3 = 90 * W3.x + 100 * P3.x - 58 * S.x\n",
    "print(\"In scenario 3, we produce\", W3.x*1000, \"wrenches and\", P3.x*1000, \"pliers, resulting in a profit of\", profit_3)\n",
    "\n",
    "profit_4 = 90 * W4.x + 100 * P4.x - 58 * S.x\n",
    "print(\"In scenario 4, we produce\", W4.x*1000, \"wrenches and\", P4.x*1000, \"pliers, resulting in a profit of\", profit_4)\n",
    "\n",
    "expected_profit = 0.12 * profit_1 + 0.28 * profit_2 + 0.18 * profit_3 + 0.42 * profit_4\n",
    "print(\"Our expected profit is\", expected_profit)\n",
    "\n",
    "print(\"Our worst-case profit is\", z.x)"
   ]
  },
  {
   "cell_type": "markdown",
   "metadata": {},
   "source": [
    "## Discussion\n",
    "* How does the robust optimization solution compare with the stochastic programming solution?"
   ]
  }
 ],
 "metadata": {
  "kernelspec": {
   "display_name": "Python 3",
   "language": "python",
   "name": "python3"
  },
  "language_info": {
   "codemirror_mode": {
    "name": "ipython",
    "version": 3
   },
   "file_extension": ".py",
   "mimetype": "text/x-python",
   "name": "python",
   "nbconvert_exporter": "python",
   "pygments_lexer": "ipython3",
   "version": "3.7.6"
  }
 },
 "nbformat": 4,
 "nbformat_minor": 4
}
